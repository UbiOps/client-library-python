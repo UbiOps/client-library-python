{
 "cells": [
  {
   "cell_type": "markdown",
   "metadata": {},
   "source": [
    "# Quickstart Training"
   ]
  },
  {
   "cell_type": "markdown",
   "metadata": {},
   "source": [
    "Download the pokemon training dataset. Credits to Vishal Subbiah for making this dataset available on Kaggle https://www.kaggle.com/datasets/vishalsubbiah/pokemon-images-and-types"
   ]
  },
  {
   "cell_type": "code",
   "execution_count": null,
   "metadata": {},
   "outputs": [],
   "source": [
    "!curl https://storage.googleapis.com/ubiops/data/training-data.zip -o training-data.zip"
   ]
  },
  {
   "cell_type": "markdown",
   "metadata": {},
   "source": [
    "Add your API token and project name. You can also adapt the experiment name and run name or leave the default values. Afterwards we initialize the client library, which establishes the connection with UbiOps."
   ]
  },
  {
   "cell_type": "code",
   "execution_count": null,
   "metadata": {},
   "outputs": [],
   "source": [
    "PROJECT_NAME = '<YOUR_PROJECT_NAME>'\n",
    "ENVIRONMENT_NAME = 'python3-8-tf-2-4-4'\n",
    "EXPERIMENT_NAME = 'pokemon-experiment'\n",
    "RUN_NAME = 'pokemon-run'"
   ]
  },
  {
   "cell_type": "code",
   "execution_count": null,
   "metadata": {},
   "outputs": [],
   "source": [
    "import logging\n",
    "import shutil\n",
    "import ubiops\n",
    "import uuid\n",
    "\n",
    "logger = logging.getLogger(\"Training\")\n",
    "\n",
    "from ubiops.utils import upload_file, wait_for_environment, wait_for_experiment_run"
   ]
  },
  {
   "cell_type": "markdown",
   "metadata": {},
   "source": [
    "Make a connection with UbiOps"
   ]
  },
  {
   "cell_type": "code",
   "execution_count": null,
   "metadata": {},
   "outputs": [],
   "source": [
    "import ubiops\n",
    "from getpass import getpass\n",
    "\n",
    "api_token = getpass(\"Enter your UbiOps API token: \")\n",
    "if not api_token.startswith(\"Token \"):\n",
    "    api_token = f\"Token {api_token}\"\n",
    "\n",
    "configuration = ubiops.Configuration(host=\"https://api.ubiops.com/v2.1\")\n",
    "configuration.api_key['Authorization'] = api_token"
   ]
  },
  {
   "cell_type": "markdown",
   "metadata": {},
   "source": [
    "Here we open the connection with the UbiOps API Client."
   ]
  },
  {
   "cell_type": "code",
   "execution_count": null,
   "metadata": {},
   "outputs": [],
   "source": [
    "api_client = ubiops.ApiClient(configuration)\n",
    "core_instance = ubiops.CoreApi(api_client=api_client)\n",
    "training_instance = ubiops.Training(api_client=api_client)\n",
    "core_instance.service_status()"
   ]
  },
  {
   "cell_type": "markdown",
   "metadata": {},
   "source": [
    "# Enable training"
   ]
  },
  {
   "cell_type": "code",
   "execution_count": null,
   "metadata": {},
   "outputs": [],
   "source": [
    "try:\n",
    "    training_instance.initialize(project_name=PROJECT_NAME)\n",
    "except ubiops.exceptions.ApiException as e:\n",
    "    logger.warning(f\"The training feature may already have been initialized in your project: {e}\")"
   ]
  },
  {
   "cell_type": "markdown",
   "metadata": {},
   "source": [
    "# Create environment"
   ]
  },
  {
   "cell_type": "markdown",
   "metadata": {},
   "source": [
    "Create an environment for the Python packages we need and wait for it to be ready"
   ]
  },
  {
   "cell_type": "code",
   "execution_count": null,
   "metadata": {
    "scrolled": true
   },
   "outputs": [],
   "source": [
    "try:\n",
    "    core_instance.environments_create(\n",
    "        project_name=PROJECT_NAME,\n",
    "        data=ubiops.EnvironmentCreate(\n",
    "            name=ENVIRONMENT_NAME,\n",
    "            display_name=ENVIRONMENT_NAME,\n",
    "            base_environment='python3-8',\n",
    "            description='Test training environment with tensorflow 2.4.4',\n",
    "        )\n",
    "    )\n",
    "    # Zip the directory with the training environment dependencies\n",
    "    training_environment_archive = shutil.make_archive('training_environment', 'zip', 'training_environment')\n",
    "\n",
    "    core_instance.environment_revisions_file_upload(\n",
    "        project_name=PROJECT_NAME,\n",
    "        environment_name=ENVIRONMENT_NAME,\n",
    "        file=training_environment_archive\n",
    "    )\n",
    "except ubiops.exceptions.ApiException as e:\n",
    "    logger.error(e)\n",
    "    \n",
    "wait_for_environment(\n",
    "    client=api_client,\n",
    "    project_name=PROJECT_NAME,\n",
    "    environment_name=ENVIRONMENT_NAME,\n",
    "    timeout=600,\n",
    "    stream_logs=True\n",
    ")"
   ]
  },
  {
   "cell_type": "markdown",
   "metadata": {},
   "source": [
    "# Create experiment"
   ]
  },
  {
   "cell_type": "markdown",
   "metadata": {},
   "source": [
    "Prepare the training run by creating an experiment"
   ]
  },
  {
   "cell_type": "code",
   "execution_count": null,
   "metadata": {},
   "outputs": [],
   "source": [
    "try:\n",
    "    experiment = training_instance.experiments_create(\n",
    "        project_name=PROJECT_NAME,\n",
    "        data=ubiops.ExperimentCreate(\n",
    "            instance_type_group_name='4096 MB + 1 vCPU',\n",
    "            description='Train a pokemon classification algorithm',\n",
    "            name=EXPERIMENT_NAME,\n",
    "            environment=ENVIRONMENT_NAME,\n",
    "            default_bucket='default',\n",
    "            labels={}\n",
    "        )\n",
    "    )\n",
    "except ubiops.exceptions.ApiException as e:\n",
    "    logger.error(e)"
   ]
  },
  {
   "cell_type": "markdown",
   "metadata": {},
   "source": [
    "# Run a training job"
   ]
  },
  {
   "cell_type": "markdown",
   "metadata": {},
   "source": [
    "Run a training job by uploading the training code and dataset and passing the training parameters. Use the `wait_for_experiment_run` function from utils to stream the logs of the run while waiting."
   ]
  },
  {
   "cell_type": "code",
   "execution_count": null,
   "metadata": {
    "scrolled": true
   },
   "outputs": [],
   "source": [
    "try:\n",
    "    file_uri = upload_file(\n",
    "        client=api_client,\n",
    "        project_name=PROJECT_NAME,\n",
    "        file_path='training-data.zip',\n",
    "        bucket_name='default',\n",
    "        file_name=EXPERIMENT_NAME + '/' + 'training-data.zip'\n",
    "    )\n",
    "    new_run = training_instance.experiment_runs_create(\n",
    "        project_name=PROJECT_NAME,\n",
    "        experiment_name=EXPERIMENT_NAME,\n",
    "        data=ubiops.ExperimentRunCreate(\n",
    "            name=\"training-run-\"+str(uuid.uuid4()),\n",
    "            description='Trying out a run with 15 epochs and batch size 32',\n",
    "            training_code='./training_code/train.py',\n",
    "            training_data=file_uri,\n",
    "            parameters={\n",
    "                'nr_epochs': 15,\n",
    "                'batch_size': 32\n",
    "            },\n",
    "            timeout=14400\n",
    "        )\n",
    "    )\n",
    "    \n",
    "    wait_for_experiment_run(\n",
    "        client=api_client,\n",
    "        project_name=PROJECT_NAME,\n",
    "        experiment_name=EXPERIMENT_NAME,\n",
    "        run_id=new_run.id,\n",
    "        stream_logs=True\n",
    "    )\n",
    "except ubiops.exceptions.ApiException as e:\n",
    "    logger.error(e)"
   ]
  },
  {
   "cell_type": "markdown",
   "metadata": {},
   "source": [
    " "
   ]
  }
 ],
 "metadata": {
  "kernelspec": {
   "display_name": "Python 3",
   "language": "python",
   "name": "python3"
  },
  "language_info": {
   "codemirror_mode": {
    "name": "ipython",
    "version": 3
   },
   "file_extension": ".py",
   "mimetype": "text/x-python",
   "name": "python",
   "nbconvert_exporter": "python",
   "pygments_lexer": "ipython3",
   "version": "3.11.11"
  }
 },
 "nbformat": 4,
 "nbformat_minor": 4
}
