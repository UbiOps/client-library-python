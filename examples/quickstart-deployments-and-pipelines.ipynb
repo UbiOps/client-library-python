{
 "cells": [
  {
   "cell_type": "markdown",
   "metadata": {},
   "source": [
    "<img src=\"ubiops_logo.svg\" width=\"80\">\n",
    "\n",
    "# Quickstart Pipelines\n",
    "Deploy a simple float-to-float deployment in UbiOps using the python client library.\n",
    "\n",
    "\n",
    "The first step is to [download](https://storage.googleapis.com/ubiops/example-deployment-packages/example_deployment_package.zip) a prepared deployment package (the deployment code)."
   ]
  },
  {
   "cell_type": "code",
   "execution_count": null,
   "metadata": {},
   "outputs": [],
   "source": [
    "!curl -X GET https://storage.googleapis.com/ubiops/example-deployment-packages/example_deployment_package.zip -o example_deployment_package.zip"
   ]
  },
  {
   "cell_type": "markdown",
   "metadata": {},
   "source": [
    "Add your API token and project name. You can also adapt the deployment name and deployment version name or leave the default values. Afterwards we initialize the client library, which establishes the connection with UbiOps."
   ]
  },
  {
   "cell_type": "code",
   "execution_count": null,
   "metadata": {},
   "outputs": [],
   "source": [
    "PROJECT_NAME = '<YOUR_PROJECT_NAME>'\n",
    "DEPLOYMENT_NAME = 'simple-tutorial'\n",
    "DEPLOYMENT_VERSION = 'v1'"
   ]
  },
  {
   "cell_type": "code",
   "execution_count": null,
   "metadata": {},
   "outputs": [],
   "source": [
    "import ubiops\n",
    "from getpass import getpass\n",
    "\n",
    "api_token = getpass(\"Enter your UbiOps API token: \")\n",
    "if not api_token.startswith(\"Token \"):\n",
    "    api_token = f\"Token {api_token}\"\n",
    "\n",
    "configuration = ubiops.Configuration(host=\"https://api.ubiops.com/v2.1\")\n",
    "configuration.api_key['Authorization'] = api_token"
   ]
  },
  {
   "cell_type": "markdown",
   "metadata": {},
   "source": [
    "Here we open the connection with the UbiOps API Client."
   ]
  },
  {
   "cell_type": "code",
   "execution_count": null,
   "metadata": {},
   "outputs": [],
   "source": [
    "client = ubiops.ApiClient(configuration)\n",
    "api = ubiops.CoreApi(client)\n",
    "api.service_status()"
   ]
  },
  {
   "cell_type": "markdown",
   "metadata": {},
   "source": [
    "## Deploy\n",
    "\n",
    "### Create a deployment"
   ]
  },
  {
   "cell_type": "code",
   "execution_count": null,
   "metadata": {
    "scrolled": false
   },
   "outputs": [],
   "source": [
    "deployment_template = ubiops.DeploymentCreate(\n",
    "    name=DEPLOYMENT_NAME,\n",
    "    description='A simple deployment that multiplies the input float by a random number.',\n",
    "    input_type='structured',\n",
    "    output_type='structured',\n",
    "    input_fields=[{'name': 'input', 'data_type': 'double'}],\n",
    "    output_fields=[{'name': 'output', 'data_type': 'double'}],\n",
    "    labels={\"demo\": \"quickstart\"}\n",
    ")\n",
    "\n",
    "deployment = api.deployments_create(project_name=PROJECT_NAME, data=deployment_template)\n",
    "print(deployment)"
   ]
  },
  {
   "cell_type": "markdown",
   "metadata": {},
   "source": [
    "### Create a deployment version"
   ]
  },
  {
   "cell_type": "markdown",
   "metadata": {},
   "source": [
    "<div class=\"alert alert-block alert-info\">\n",
    "<b>Request Retention Mode:</b>\n",
    "Use <code>request_retention_mode='metadata'</code> or <code>request_retention_mode='full'</code> to store all requests. <u>Only then you will be able to retrieve them later</u>.\n",
    "</div>"
   ]
  },
  {
   "cell_type": "code",
   "execution_count": null,
   "metadata": {},
   "outputs": [],
   "source": [
    "version_template = ubiops.DeploymentVersionCreate(\n",
    "    version=DEPLOYMENT_VERSION,\n",
    "    environment='python3-11',\n",
    "    instance_type='256mb',\n",
    "    maximum_instances=1,\n",
    "    minimum_instances=0,\n",
    "    maximum_idle_time=1800, # = 30 minutes\n",
    "    request_retention_mode='full'\n",
    ")\n",
    "\n",
    "version = api.deployment_versions_create(\n",
    "    project_name=PROJECT_NAME,\n",
    "    deployment_name=DEPLOYMENT_NAME,\n",
    "    data=version_template\n",
    ")\n",
    "print(version)"
   ]
  },
  {
   "cell_type": "markdown",
   "metadata": {},
   "source": [
    "Upload the prepared deployment file to the created deployment version. This will create a revision and starts a build."
   ]
  },
  {
   "cell_type": "code",
   "execution_count": null,
   "metadata": {},
   "outputs": [],
   "source": [
    "upload_response = api.revisions_file_upload(\n",
    "    project_name=PROJECT_NAME,\n",
    "    deployment_name=DEPLOYMENT_NAME,\n",
    "    version=DEPLOYMENT_VERSION,\n",
    "    file='example_deployment_package.zip'\n",
    ")\n",
    "print(upload_response)"
   ]
  },
  {
   "cell_type": "markdown",
   "metadata": {},
   "source": [
    "Check if deployment is finished building.\n",
    "This can take a few minutes."
   ]
  },
  {
   "cell_type": "code",
   "execution_count": null,
   "metadata": {},
   "outputs": [],
   "source": [
    "ubiops.utils.wait_for_deployment_version(\n",
    "    client=api.api_client,\n",
    "    project_name=PROJECT_NAME,\n",
    "    deployment_name=DEPLOYMENT_NAME,\n",
    "    version=DEPLOYMENT_VERSION,\n",
    "    revision_id=upload_response.revision,\n",
    "    stream_logs=True\n",
    ")"
   ]
  },
  {
   "cell_type": "markdown",
   "metadata": {},
   "source": [
    "The version is now available."
   ]
  },
  {
   "cell_type": "code",
   "execution_count": null,
   "metadata": {},
   "outputs": [],
   "source": [
    "api.deployment_versions_get(\n",
    "    project_name=PROJECT_NAME,\n",
    "    deployment_name=DEPLOYMENT_NAME,\n",
    "    version=DEPLOYMENT_VERSION\n",
    ").status"
   ]
  },
  {
   "cell_type": "markdown",
   "metadata": {},
   "source": [
    "## Requests\n",
    "\n",
    "<div class=\"alert alert-block alert-info\">\n",
    "\n",
    "<b>Direct requests:</b> Direct (<i>synchronous</i>) requests have a maximum duration of <i>1 hour</i>. The connection stays open until the request is finished. The results are in the response of the request.\n",
    "\n",
    "<b>Batch requests:</b> Batch (<i>asynchronous</i>) requests have a maximum duration of <i>48 hours</i>. A request is created with status <i>pending</i> and the request id is returned. With the request id you can obtain the results later. <br/>Please, note that it is only possible to retrieve the results later if you used <code>request_retention_mode='full'</code> upon deployment version creation.<br/>"
   ]
  },
  {
   "cell_type": "markdown",
   "metadata": {},
   "source": [
    "### Creating a direct request\n",
    "Make sure the deployment is in 'available' state before performing deployment requests.\n",
    "\n",
    "The first request is usually slow because of a cold start. A second request (performed within the `maximum_idle_time`, which was set to 30 minutes in this tutorial) will be much faster."
   ]
  },
  {
   "cell_type": "code",
   "execution_count": null,
   "metadata": {},
   "outputs": [],
   "source": [
    "data = {'input': 123}\n",
    "request_1 = api.deployment_version_requests_create(\n",
    "    project_name=PROJECT_NAME,\n",
    "    deployment_name=DEPLOYMENT_NAME,\n",
    "    version=DEPLOYMENT_VERSION,\n",
    "    data=data\n",
    ")\n",
    "print(request_1)"
   ]
  },
  {
   "cell_type": "markdown",
   "metadata": {},
   "source": [
    "Result:"
   ]
  },
  {
   "cell_type": "code",
   "execution_count": null,
   "metadata": {},
   "outputs": [],
   "source": [
    "print(request_1.result)"
   ]
  },
  {
   "cell_type": "markdown",
   "metadata": {},
   "source": [
    "It's possible to make a request to the *default* deployment version. The first created version automatically becomes the *default* version, and can be set to another version later. "
   ]
  },
  {
   "cell_type": "code",
   "execution_count": null,
   "metadata": {},
   "outputs": [],
   "source": [
    "data = {'input': 123}\n",
    "request_2 = api.deployment_requests_create(\n",
    "    project_name=PROJECT_NAME,\n",
    "    deployment_name=DEPLOYMENT_NAME,\n",
    "    data=data\n",
    ")\n",
    "print(request_2)"
   ]
  },
  {
   "cell_type": "markdown",
   "metadata": {},
   "source": [
    "Result:"
   ]
  },
  {
   "cell_type": "code",
   "execution_count": null,
   "metadata": {},
   "outputs": [],
   "source": [
    "print(request_2.result)"
   ]
  },
  {
   "cell_type": "markdown",
   "metadata": {},
   "source": [
    "### Creating batch requests"
   ]
  },
  {
   "cell_type": "markdown",
   "metadata": {},
   "source": [
    "Create the request(s) and retrieve the request id(s)"
   ]
  },
  {
   "cell_type": "code",
   "execution_count": null,
   "metadata": {},
   "outputs": [],
   "source": [
    "data = {'input': 123}\n",
    "request_batch = api.batch_deployment_requests_create(\n",
    "    project_name=PROJECT_NAME,\n",
    "    deployment_name=DEPLOYMENT_NAME,\n",
    "    data=[data]\n",
    ")\n",
    "print(request_batch)"
   ]
  },
  {
   "cell_type": "markdown",
   "metadata": {},
   "source": [
    "Retrieve the results using the request id\n",
    "\n",
    "<div class=\"alert alert-block alert-info\">\n",
    "Please, note that it is only possible to retrieve the results later if you used <code>request_retention_mode='full'</code> upon deployment version creation.\n",
    "</div>"
   ]
  },
  {
   "cell_type": "code",
   "execution_count": null,
   "metadata": {},
   "outputs": [],
   "source": [
    "request_result = api.deployment_requests_get(\n",
    "    project_name=PROJECT_NAME,\n",
    "    deployment_name=DEPLOYMENT_NAME,\n",
    "    request_id=request_batch[0].id\n",
    ")\n",
    "print(request_result)"
   ]
  },
  {
   "cell_type": "markdown",
   "metadata": {},
   "source": [
    "***\n",
    "\n",
    "# Pipelines\n",
    "\n",
    "Multiple deployments can be chained using a *pipeline*. In this tutorial, we will chain the deployment created above with a new deployment. Just for demo purposes, we will use the same deployment package (the same code) for both deployments in the pipeline. Therefore, the pipeline will contain two modelling steps: each step will multiply the input by a random number."
   ]
  },
  {
   "cell_type": "markdown",
   "metadata": {},
   "source": [
    "## Create another deployment and version\n",
    "Normally you would like to chain different deployments. However, just for demo purposes, we will use the same deployment package as used above."
   ]
  },
  {
   "cell_type": "markdown",
   "metadata": {},
   "source": [
    "Create the deployment and version"
   ]
  },
  {
   "cell_type": "code",
   "execution_count": null,
   "metadata": {},
   "outputs": [],
   "source": [
    "DEPLOYMENT_NAME2 = f\"{DEPLOYMENT_NAME}-2\"\n",
    "deployment_template2 = deployment_template\n",
    "deployment_template2.name = DEPLOYMENT_NAME2\n",
    "\n",
    "api.deployments_create(\n",
    "    project_name=PROJECT_NAME,\n",
    "    data=deployment_template2\n",
    ")\n",
    "\n",
    "api.deployment_versions_create(\n",
    "    project_name=PROJECT_NAME,\n",
    "    deployment_name=DEPLOYMENT_NAME2,\n",
    "    data=version_template\n",
    ")"
   ]
  },
  {
   "cell_type": "markdown",
   "metadata": {},
   "source": [
    "Upload the zip"
   ]
  },
  {
   "cell_type": "code",
   "execution_count": null,
   "metadata": {},
   "outputs": [],
   "source": [
    "upload_response2 = api.revisions_file_upload(\n",
    "    project_name=PROJECT_NAME,\n",
    "    deployment_name=DEPLOYMENT_NAME2,\n",
    "    version=DEPLOYMENT_VERSION,\n",
    "    file='example_deployment_package.zip'\n",
    ")\n",
    "print(upload_response2)"
   ]
  },
  {
   "cell_type": "markdown",
   "metadata": {},
   "source": [
    "Wait for the deployment to be ready"
   ]
  },
  {
   "cell_type": "code",
   "execution_count": null,
   "metadata": {},
   "outputs": [],
   "source": [
    "ubiops.utils.wait_for_deployment_version(\n",
    "    client=api.api_client,\n",
    "    project_name=PROJECT_NAME,\n",
    "    deployment_name=DEPLOYMENT_NAME2,\n",
    "    version=DEPLOYMENT_VERSION,\n",
    "    revision_id=upload_response2.revision,\n",
    "    stream_logs=True\n",
    ")"
   ]
  },
  {
   "cell_type": "markdown",
   "metadata": {},
   "source": [
    "## Create a pipeline and version"
   ]
  },
  {
   "cell_type": "code",
   "execution_count": null,
   "metadata": {},
   "outputs": [],
   "source": [
    "PIPELINE_NAME = f\"{DEPLOYMENT_NAME}-pipeline\"\n",
    "PIPELINE_VERSION = DEPLOYMENT_VERSION"
   ]
  },
  {
   "cell_type": "code",
   "execution_count": null,
   "metadata": {},
   "outputs": [],
   "source": [
    "pipeline_template = ubiops.PipelineCreate(\n",
    "    name=PIPELINE_NAME,\n",
    "    description='A simple pipeline that multiplies the input float two times by a random number.',\n",
    "    input_type='structured',\n",
    "    output_type='structured',\n",
    "    input_fields=[{'name': 'input', 'data_type': 'double'}],\n",
    "    output_fields=[{'name': 'output', 'data_type': 'double'}],\n",
    "    labels={\"demo\": \"quickstart\"}\n",
    ")\n",
    "\n",
    "api.pipelines_create(project_name=PROJECT_NAME, data=pipeline_template)"
   ]
  },
  {
   "cell_type": "markdown",
   "metadata": {},
   "source": [
    "<div class=\"alert alert-block alert-info\">\n",
    "    \n",
    "<b>Request Retention Mode:</b>\n",
    "Use <code>request_retention_mode='metadata'</code> (request info) or <code>request_retention_mode='full'</code> (request info + input/output data) to store all requests to the pipeline version. Only then you will be able to retrieve them later.\n",
    "</div>"
   ]
  },
  {
   "cell_type": "code",
   "execution_count": null,
   "metadata": {},
   "outputs": [],
   "source": [
    "pipeline_template = ubiops.PipelineVersionCreate(\n",
    "    version=PIPELINE_VERSION,\n",
    "    request_retention_mode='full',\n",
    "    objects=[\n",
    "        # object 1\n",
    "        # Refer a specific version of deployment1\n",
    "        {\n",
    "            'name': DEPLOYMENT_NAME,\n",
    "            'reference_name': DEPLOYMENT_NAME,\n",
    "            'version': DEPLOYMENT_VERSION\n",
    "        },\n",
    "        # object 2\n",
    "        # Refer default version of deployment2\n",
    "        {\n",
    "            'name': DEPLOYMENT_NAME2,\n",
    "            'reference_name': DEPLOYMENT_NAME2\n",
    "        }\n",
    "    ],\n",
    "    attachments=[\n",
    "        # start -> deployment1\n",
    "        {\n",
    "            'destination_name': DEPLOYMENT_NAME,\n",
    "            'sources': [{\n",
    "                'source_name': 'pipeline_start',\n",
    "                'mapping': [{\n",
    "                    \"source_field_name\": 'input',\n",
    "                    'destination_field_name': 'input'\n",
    "                }]\n",
    "            }]\n",
    "        },\n",
    "        # deployment1 -> deployment2\n",
    "        {\n",
    "            'destination_name': DEPLOYMENT_NAME2,\n",
    "            'sources': [{\n",
    "                'source_name': DEPLOYMENT_NAME,\n",
    "                'mapping': [{\n",
    "                    \"source_field_name\": 'output',\n",
    "                    'destination_field_name': 'input'\n",
    "                }]\n",
    "            }]\n",
    "        },\n",
    "        # deployment2 -> end\n",
    "        {\n",
    "            'destination_name': 'pipeline_end',\n",
    "            'sources': [{\n",
    "                'source_name': DEPLOYMENT_NAME2,\n",
    "                'mapping': [{\n",
    "                    \"source_field_name\": 'output',\n",
    "                    'destination_field_name': 'output'\n",
    "                }]\n",
    "            }]\n",
    "        }\n",
    "    ]\n",
    ")\n",
    "\n",
    "api.pipeline_versions_create(project_name=PROJECT_NAME, pipeline_name=PIPELINE_NAME, data=pipeline_template)"
   ]
  },
  {
   "cell_type": "markdown",
   "metadata": {},
   "source": [
    "## Requests"
   ]
  },
  {
   "cell_type": "markdown",
   "metadata": {},
   "source": [
    "### Creating a direct request"
   ]
  },
  {
   "cell_type": "code",
   "execution_count": null,
   "metadata": {},
   "outputs": [],
   "source": [
    "data = {'input': 123}\n",
    "pipeline_result = api.pipeline_version_requests_create(\n",
    "    project_name=PROJECT_NAME,\n",
    "    pipeline_name=PIPELINE_NAME,\n",
    "    version=PIPELINE_VERSION,\n",
    "    data=data\n",
    ")\n",
    "print(pipeline_result)"
   ]
  },
  {
   "cell_type": "markdown",
   "metadata": {},
   "source": [
    "It's also possible to make a request to the *default* pipeline version. Like for deployments, the first created pipeline version automatically becomes the *default* version, and can be set to another version later."
   ]
  },
  {
   "cell_type": "code",
   "execution_count": null,
   "metadata": {},
   "outputs": [],
   "source": [
    "data = {'input': 123}\n",
    "pipeline_result = api.pipeline_requests_create(\n",
    "    project_name=PROJECT_NAME,\n",
    "    pipeline_name=PIPELINE_NAME,\n",
    "    data=data\n",
    ")\n",
    "print(pipeline_result)"
   ]
  },
  {
   "cell_type": "markdown",
   "metadata": {},
   "source": [
    "### Creating batch requests"
   ]
  },
  {
   "cell_type": "code",
   "execution_count": null,
   "metadata": {},
   "outputs": [],
   "source": [
    "data = {'input': 123}\n",
    "pipeline_batch = api.batch_pipeline_requests_create(\n",
    "    project_name=PROJECT_NAME,\n",
    "    pipeline_name=PIPELINE_NAME,\n",
    "    data=[data]\n",
    ")\n",
    "print(pipeline_batch)"
   ]
  },
  {
   "cell_type": "markdown",
   "metadata": {},
   "source": [
    "<div class=\"alert alert-block alert-info\">\n",
    "Please, note that it is only possible to retrieve the results later if you use <code>request_retention_mode='full'</code>.\n",
    "</div>"
   ]
  },
  {
   "cell_type": "code",
   "execution_count": null,
   "metadata": {},
   "outputs": [],
   "source": [
    "pipeline_result = api.pipeline_requests_get(\n",
    "    project_name=PROJECT_NAME,\n",
    "    pipeline_name=PIPELINE_NAME,\n",
    "    request_id=pipeline_batch[0].id\n",
    ")\n",
    "print(pipeline_result)"
   ]
  },
  {
   "cell_type": "markdown",
   "metadata": {},
   "source": [
    "## Cleanup\n",
    "Delete created deployment."
   ]
  },
  {
   "cell_type": "code",
   "execution_count": null,
   "metadata": {},
   "outputs": [],
   "source": [
    "api.pipelines_delete(\n",
    "    project_name=PROJECT_NAME,\n",
    "    pipeline_name=PIPELINE_NAME\n",
    ")"
   ]
  },
  {
   "cell_type": "code",
   "execution_count": null,
   "metadata": {},
   "outputs": [],
   "source": [
    "api.deployments_delete(\n",
    "    project_name=PROJECT_NAME,\n",
    "    deployment_name=DEPLOYMENT_NAME\n",
    ")\n",
    "api.deployments_delete(\n",
    "    project_name=PROJECT_NAME,\n",
    "    deployment_name=DEPLOYMENT_NAME2\n",
    ")"
   ]
  },
  {
   "cell_type": "markdown",
   "metadata": {},
   "source": [
    "## Close connection\n",
    "Close the connection with the UbiOps API client."
   ]
  },
  {
   "cell_type": "code",
   "execution_count": null,
   "metadata": {},
   "outputs": [],
   "source": [
    "client.close()"
   ]
  },
  {
   "cell_type": "markdown",
   "metadata": {},
   "source": [
    " "
   ]
  }
 ],
 "metadata": {
  "kernelspec": {
   "display_name": "Python 3",
   "language": "python",
   "name": "python3"
  },
  "language_info": {
   "codemirror_mode": {
    "name": "ipython",
    "version": 3
   },
   "file_extension": ".py",
   "mimetype": "text/x-python",
   "name": "python",
   "nbconvert_exporter": "python",
   "pygments_lexer": "ipython3",
   "version": "3.7.4"
  }
 },
 "nbformat": 4,
 "nbformat_minor": 4
}
