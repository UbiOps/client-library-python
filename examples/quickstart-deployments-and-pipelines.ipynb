{
 "cells": [
  {
   "cell_type": "markdown",
   "metadata": {},
   "source": [
    "<img src=\"ubiops_logo.svg\" width=\"80\">\n",
    "\n",
    "# Quickstart\n",
    "Deploy a simple float-to-float deployment in UbiOps using the python client library.\n",
    "\n",
    "\n",
    "The first step is to [download](https://storage.googleapis.com/ubiops/example-deployment-packages/example_deployment_package.zip) a prepared deployment package (the deployment code)."
   ]
  },
  {
   "cell_type": "code",
   "execution_count": null,
   "metadata": {},
   "outputs": [],
   "source": [
    "!curl -X GET https://storage.googleapis.com/ubiops/example-deployment-packages/example_deployment_package.zip -o example_deployment_package.zip"
   ]
  },
  {
   "cell_type": "markdown",
   "metadata": {},
   "source": [
    "Add your API token and project name. You can also adapt the deployment name and deployment version name or leave the default values. Afterwards we initialize the client library, which establishes the connection with UbiOps."
   ]
  },
  {
   "cell_type": "code",
   "execution_count": null,
   "metadata": {},
   "outputs": [],
   "source": [
    "API_TOKEN = 'Token <YOUR_API_KEY>'\n",
    "PROJECT_NAME = '<YOUR_PROJECT_NAME>'\n",
    "DEPLOYMENT_NAME = 'simple-tutorial'\n",
    "DEPLOYMENT_VERSION = 'v1'"
   ]
  },
  {
   "cell_type": "code",
   "execution_count": null,
   "metadata": {},
   "outputs": [],
   "source": [
    "import ubiops\n",
    "configuration = ubiops.Configuration(host=\"https://api.ubiops.com/v2.1\")\n",
    "configuration.api_key['Authorization'] = API_TOKEN"
   ]
  },
  {
   "cell_type": "markdown",
   "metadata": {},
   "source": [
    "Here we open the connection with the UbiOps API Client."
   ]
  },
  {
   "cell_type": "code",
   "execution_count": null,
   "metadata": {},
   "outputs": [],
   "source": [
    "client = ubiops.ApiClient(configuration)\n",
    "api = ubiops.CoreApi(client)\n",
    "api.service_status()"
   ]
  },
  {
   "cell_type": "markdown",
   "metadata": {},
   "source": [
    "## Deploy\n",
    "\n",
    "### Create a deployment"
   ]
  },
  {
   "cell_type": "code",
   "execution_count": null,
   "metadata": {
    "scrolled": false
   },
   "outputs": [],
   "source": [
    "deployment_template = ubiops.DeploymentCreate(\n",
    "    name=DEPLOYMENT_NAME,\n",
    "    description='A simple deployment that multiplies the input float by a random number.',\n",
    "    input_type='structured',\n",
    "    output_type='structured',\n",
    "    input_fields=[{'name': 'input', 'data_type': 'double'}],\n",
    "    output_fields=[{'name': 'output', 'data_type': 'double'}],\n",
    "    labels={}\n",
    ")\n",
    "\n",
    "deployment = api.deployments_create(project_name=PROJECT_NAME, data=deployment_template)\n",
    "print(deployment)"
   ]
  },
  {
   "cell_type": "markdown",
   "metadata": {},
   "source": [
    "### Create a deployment version"
   ]
  },
  {
   "cell_type": "markdown",
   "metadata": {},
   "source": [
    "<div class=\"alert alert-block alert-info\">\n",
    "    \n",
    "<b>Deployment Mode:</b> The <i>deployment_mode</i> of a deployment version determines what kind of requests will be made to it. For <code>deployment_mode='express'</code>, direct (<i>synchronous</i>) requests will be made, resulting in <i>low latency</i> and a maximum duration of 1 hour for a single request. For <code>deployment_mode='batch'</code>, batch (<i>asynchronous</i>) requests will be made, resulting in a higher latency but a maximum duration of <i>48 hours</i> for a single request. You will retrieve a request id with which you can obtain the results later (see <i>request retention mode</i>).\n",
    "<br/><br/>\n",
    "<b>Request Retention Mode:</b>\n",
    "Use <code>request_retention_mode='metadata'</code> or <code>request_retention_mode='full'</code> to store all direct and batch requests. <u>Only then you will be able to retrieve them later</u>. In this demo, we don't need to store them.\n",
    "\n",
    "</div>"
   ]
  },
  {
   "cell_type": "code",
   "execution_count": null,
   "metadata": {},
   "outputs": [],
   "source": [
    "version_template = ubiops.DeploymentVersionCreate(\n",
    "    version=DEPLOYMENT_VERSION,\n",
    "    language='python3.7',\n",
    "    memory_allocation=256,\n",
    "    maximum_instances=1,\n",
    "    minimum_instances=0,\n",
    "    maximum_idle_time=1800, # = 30 minutes\n",
    "    deployment_mode='express',  # 'express' or 'batch'\n",
    "    request_retention_mode='none'  # We don't need to store the requests in this demo\n",
    ")\n",
    "\n",
    "version = api.deployment_versions_create(\n",
    "    project_name=PROJECT_NAME,\n",
    "    deployment_name=DEPLOYMENT_NAME,\n",
    "    data=version_template\n",
    ")\n",
    "print(version)"
   ]
  },
  {
   "cell_type": "markdown",
   "metadata": {},
   "source": [
    "Upload the prepared deployment file to the created deployment version. This will create a revision and starts a build."
   ]
  },
  {
   "cell_type": "code",
   "execution_count": null,
   "metadata": {},
   "outputs": [],
   "source": [
    "upload_response = api.revisions_file_upload(\n",
    "    project_name=PROJECT_NAME,\n",
    "    deployment_name=DEPLOYMENT_NAME,\n",
    "    version=DEPLOYMENT_VERSION,\n",
    "    file='example_deployment_package.zip'\n",
    ")\n",
    "print(upload_response)"
   ]
  },
  {
   "cell_type": "markdown",
   "metadata": {},
   "source": [
    "Check if deployment is finished building.\n",
    "This can take a few minutes."
   ]
  },
  {
   "cell_type": "code",
   "execution_count": null,
   "metadata": {},
   "outputs": [],
   "source": [
    "from time import sleep\n",
    "status = 'queued'\n",
    "while status != 'success' and status != 'failed':\n",
    "    build_status = api.builds_get(\n",
    "        project_name=PROJECT_NAME,\n",
    "        deployment_name=DEPLOYMENT_NAME,\n",
    "        version=DEPLOYMENT_VERSION,\n",
    "        build_id=upload_response.build\n",
    "    )\n",
    "    status = build_status.status\n",
    "    print(\"{:15s}\".format(status), end='\\r')\n",
    "    sleep(1)\n",
    "print(status)"
   ]
  },
  {
   "cell_type": "markdown",
   "metadata": {},
   "source": [
    "The version is now available."
   ]
  },
  {
   "cell_type": "code",
   "execution_count": null,
   "metadata": {},
   "outputs": [],
   "source": [
    "api.deployment_versions_get(\n",
    "    project_name=PROJECT_NAME,\n",
    "    deployment_name=DEPLOYMENT_NAME,\n",
    "    version=DEPLOYMENT_VERSION\n",
    ").status"
   ]
  },
  {
   "cell_type": "markdown",
   "metadata": {},
   "source": [
    "## Creating a request\n",
    "Make sure the deployment is in 'available' state before performing deployment requests.\n",
    "\n",
    "The first request is usually slow because of a cold start. A second request (performed within the `maximum_idle_time`, which was set to 30 minutes in this tutorial) will be much faster."
   ]
  },
  {
   "cell_type": "markdown",
   "metadata": {},
   "source": [
    "<div class=\"alert alert-block alert-info\">\n",
    "    \n",
    "<b>Batch deployments:</b>\n",
    "For deployments with <code>deployment_mode='batch'</code>, it's not possible to create a <i>direct</i> request. You should create a <i>batch</i> (asynchronous) request instead: use <code>batch_deployment_requests_create</code> instead of <code>deployment_requests_create</code>:<br/>\n",
    "\n",
    "<pre><code python>data = {'input': 123}\n",
    "request_batch = api.batch_deployment_requests_create(\n",
    "    project_name=PROJECT_NAME,\n",
    "    deployment_name=DEPLOYMENT_NAME,\n",
    "    data=[data]\n",
    ")\n",
    "print(request_batch)\n",
    "</code></pre>\n",
    "\n",
    "<br/>Please, note that it is only possible to retrieve the results later if you used <code>request_retention_mode='full'</code> upon deployment version creation.<br/>\n",
    "\n",
    "<pre><code python>request_result = api.deployment_requests_get(\n",
    "    project_name=PROJECT_NAME,\n",
    "    deployment_name=DEPLOYMENT_NAME,\n",
    "    request_id=request_batch[0].id\n",
    ")\n",
    "print(request_result)\n",
    "</code></pre>\n",
    "</div>"
   ]
  },
  {
   "cell_type": "code",
   "execution_count": null,
   "metadata": {},
   "outputs": [],
   "source": [
    "data = {'input': 123}\n",
    "request_1 = api.deployment_version_requests_create(\n",
    "    project_name=PROJECT_NAME,\n",
    "    deployment_name=DEPLOYMENT_NAME,\n",
    "    version=DEPLOYMENT_VERSION,\n",
    "    data=data\n",
    ")\n",
    "print(request_1)"
   ]
  },
  {
   "cell_type": "markdown",
   "metadata": {},
   "source": [
    "Result:"
   ]
  },
  {
   "cell_type": "code",
   "execution_count": null,
   "metadata": {},
   "outputs": [],
   "source": [
    "print(request_1.result)"
   ]
  },
  {
   "cell_type": "markdown",
   "metadata": {},
   "source": [
    "It's possible to make a request to the *default* deployment version. The first created version automatically becomes the *default* version, and can be set to another version later. "
   ]
  },
  {
   "cell_type": "code",
   "execution_count": null,
   "metadata": {},
   "outputs": [],
   "source": [
    "data = {'input': 123}\n",
    "request_2 = api.deployment_requests_create(\n",
    "    project_name=PROJECT_NAME,\n",
    "    deployment_name=DEPLOYMENT_NAME,\n",
    "    data=data\n",
    ")\n",
    "print(request_2)"
   ]
  },
  {
   "cell_type": "markdown",
   "metadata": {},
   "source": [
    "Result:"
   ]
  },
  {
   "cell_type": "code",
   "execution_count": null,
   "metadata": {},
   "outputs": [],
   "source": [
    "print(request_2.result)"
   ]
  },
  {
   "cell_type": "markdown",
   "metadata": {},
   "source": [
    "***\n",
    "\n",
    "# Pipelines\n",
    "\n",
    "Multiple deployments can be chained using a *pipeline*. In this tutorial, we will chain the deployment created above with a new deployment. Just for demo purposes, we will use the same deployment package (the same code) for both deployments in the pipeline. Therefore, the pipeline will contain two modelling steps: each step will multiply the input by a random number."
   ]
  },
  {
   "cell_type": "markdown",
   "metadata": {},
   "source": [
    "## Create another deployment and version\n",
    "Normally you would like to chain different deployments. However, just for demo purposes, we will use the same deployment package as used above."
   ]
  },
  {
   "cell_type": "markdown",
   "metadata": {},
   "source": [
    "Create the deployment and version"
   ]
  },
  {
   "cell_type": "code",
   "execution_count": null,
   "metadata": {},
   "outputs": [],
   "source": [
    "DEPLOYMENT_NAME2 = f\"{DEPLOYMENT_NAME}-2\"\n",
    "deployment_template2 = deployment_template\n",
    "deployment_template2.name = DEPLOYMENT_NAME2\n",
    "\n",
    "api.deployments_create(\n",
    "    project_name=PROJECT_NAME,\n",
    "    data=deployment_template2\n",
    ")\n",
    "\n",
    "api.deployment_versions_create(\n",
    "    project_name=PROJECT_NAME,\n",
    "    deployment_name=DEPLOYMENT_NAME2,\n",
    "    data=version_template\n",
    ")"
   ]
  },
  {
   "cell_type": "markdown",
   "metadata": {},
   "source": [
    "Upload the zip"
   ]
  },
  {
   "cell_type": "code",
   "execution_count": null,
   "metadata": {},
   "outputs": [],
   "source": [
    "upload_response2 = api.revisions_file_upload(\n",
    "    project_name=PROJECT_NAME,\n",
    "    deployment_name=DEPLOYMENT_NAME2,\n",
    "    version=DEPLOYMENT_VERSION,\n",
    "    file='example_deployment_package.zip'\n",
    ")\n",
    "print(upload_response2)"
   ]
  },
  {
   "cell_type": "markdown",
   "metadata": {},
   "source": [
    "Wait for the deployment to be ready"
   ]
  },
  {
   "cell_type": "code",
   "execution_count": null,
   "metadata": {},
   "outputs": [],
   "source": [
    "from time import sleep\n",
    "status = 'queued'\n",
    "while status != 'success' and status != 'failed':    \n",
    "    build_status = api.builds_get(\n",
    "        project_name=PROJECT_NAME,\n",
    "        deployment_name=DEPLOYMENT_NAME2,\n",
    "        version=DEPLOYMENT_VERSION,\n",
    "        build_id=upload_response2.build\n",
    "    )\n",
    "    status = build_status.status\n",
    "    print(\"{:15s}\".format(status), end='\\r')\n",
    "    sleep(1)\n",
    "print(status)"
   ]
  },
  {
   "cell_type": "markdown",
   "metadata": {},
   "source": [
    "## Create a pipeline and version"
   ]
  },
  {
   "cell_type": "code",
   "execution_count": null,
   "metadata": {},
   "outputs": [],
   "source": [
    "PIPELINE_NAME = f\"{DEPLOYMENT_NAME}-pipeline\"\n",
    "PIPELINE_VERSION = DEPLOYMENT_VERSION"
   ]
  },
  {
   "cell_type": "code",
   "execution_count": null,
   "metadata": {},
   "outputs": [],
   "source": [
    "pipeline_template = ubiops.PipelineCreate(\n",
    "    name=PIPELINE_NAME,\n",
    "    description='A simple pipeline that multiplies the input float two times by a random number.',\n",
    "    input_type='structured',\n",
    "    output_type='structured',\n",
    "    input_fields=[{'name': 'input', 'data_type': 'double'}],\n",
    "    output_fields=[{'name': 'output', 'data_type': 'double'}]\n",
    ")\n",
    "\n",
    "api.pipelines_create(project_name=PROJECT_NAME, data=pipeline_template)"
   ]
  },
  {
   "cell_type": "markdown",
   "metadata": {},
   "source": [
    "<div class=\"alert alert-block alert-info\">\n",
    "    \n",
    "<b>Request Retention Mode:</b>\n",
    "Use <code>request_retention_mode='metadata'</code> or <code>request_retention_mode='full'</code> to store all direct and batch requests to the pipeline version. Only then you will be able to retrieve them later. In this demo, we don't need to store them.\n",
    "</div>"
   ]
  },
  {
   "cell_type": "code",
   "execution_count": null,
   "metadata": {},
   "outputs": [],
   "source": [
    "pipeline_template = ubiops.PipelineVersionCreate(\n",
    "    version=PIPELINE_VERSION,\n",
    "    request_retention_mode='none'  # We don't need to store the requests in this demo\n",
    ")\n",
    "\n",
    "api.pipeline_versions_create(project_name=PROJECT_NAME, pipeline_name=PIPELINE_NAME, data=pipeline_template)"
   ]
  },
  {
   "cell_type": "markdown",
   "metadata": {},
   "source": [
    "## Add deployments as objects to pipeline version"
   ]
  },
  {
   "cell_type": "code",
   "execution_count": null,
   "metadata": {},
   "outputs": [],
   "source": [
    "object_template = ubiops.PipelineVersionObjectCreate(\n",
    "    name=DEPLOYMENT_NAME,\n",
    "    reference_name=DEPLOYMENT_NAME,\n",
    "    version=DEPLOYMENT_VERSION\n",
    ")\n",
    "api.pipeline_version_objects_create(\n",
    "    project_name=PROJECT_NAME, pipeline_name=PIPELINE_NAME, version=PIPELINE_VERSION, data=object_template\n",
    ")"
   ]
  },
  {
   "cell_type": "markdown",
   "metadata": {},
   "source": [
    "It's also possible to refer to the *default* deployment version. Let's do that for the second object."
   ]
  },
  {
   "cell_type": "code",
   "execution_count": null,
   "metadata": {},
   "outputs": [],
   "source": [
    "object_template2 = ubiops.PipelineVersionObjectCreate(\n",
    "    name=DEPLOYMENT_NAME2,\n",
    "    reference_name=DEPLOYMENT_NAME2\n",
    ")\n",
    "api.pipeline_version_objects_create(\n",
    "    project_name=PROJECT_NAME, pipeline_name=PIPELINE_NAME, version=PIPELINE_VERSION, data=object_template2\n",
    ")"
   ]
  },
  {
   "cell_type": "markdown",
   "metadata": {},
   "source": [
    "## Connect the objects"
   ]
  },
  {
   "cell_type": "markdown",
   "metadata": {},
   "source": [
    "start -> deployment1"
   ]
  },
  {
   "cell_type": "code",
   "execution_count": null,
   "metadata": {},
   "outputs": [],
   "source": [
    "attachment_template = ubiops.AttachmentsCreate(\n",
    "    destination_name=DEPLOYMENT_NAME,\n",
    "    sources=[\n",
    "        ubiops.AttachmentSourcesCreate(\n",
    "            source_name='pipeline_start',\n",
    "            mapping=[ubiops.AttachmentFieldsCreate(source_field_name='input', destination_field_name='input')]\n",
    "        )\n",
    "    ]\n",
    ")\n",
    "\n",
    "api.pipeline_version_object_attachments_create(\n",
    "    project_name=PROJECT_NAME,\n",
    "    pipeline_name=PIPELINE_NAME, \n",
    "    version=PIPELINE_VERSION,\n",
    "    data=attachment_template\n",
    ")"
   ]
  },
  {
   "cell_type": "markdown",
   "metadata": {},
   "source": [
    "deployment1 -> deployment2"
   ]
  },
  {
   "cell_type": "code",
   "execution_count": null,
   "metadata": {},
   "outputs": [],
   "source": [
    "attachment_template = ubiops.AttachmentsCreate(\n",
    "    destination_name=DEPLOYMENT_NAME2,\n",
    "    sources=[\n",
    "        ubiops.AttachmentSourcesCreate(\n",
    "            source_name=DEPLOYMENT_NAME,\n",
    "            mapping=[ubiops.AttachmentFieldsCreate(source_field_name='output', destination_field_name='input')]\n",
    "        )\n",
    "    ]\n",
    ")\n",
    "\n",
    "api.pipeline_version_object_attachments_create(\n",
    "    project_name=PROJECT_NAME,\n",
    "    pipeline_name=PIPELINE_NAME, \n",
    "    version=PIPELINE_VERSION,\n",
    "    data=attachment_template\n",
    ")"
   ]
  },
  {
   "cell_type": "markdown",
   "metadata": {},
   "source": [
    "deployment2 -> end"
   ]
  },
  {
   "cell_type": "code",
   "execution_count": null,
   "metadata": {},
   "outputs": [],
   "source": [
    "attachment_template = ubiops.AttachmentsCreate(\n",
    "    destination_name='pipeline_end',\n",
    "    sources=[\n",
    "        ubiops.AttachmentSourcesCreate(\n",
    "            source_name=DEPLOYMENT_NAME2,\n",
    "            mapping=[ubiops.AttachmentFieldsCreate(source_field_name='output', destination_field_name='output')]\n",
    "        )\n",
    "    ]\n",
    ")\n",
    "\n",
    "api.pipeline_version_object_attachments_create(\n",
    "    project_name=PROJECT_NAME,\n",
    "    pipeline_name=PIPELINE_NAME, \n",
    "    version=PIPELINE_VERSION,\n",
    "    data=attachment_template\n",
    ")"
   ]
  },
  {
   "cell_type": "markdown",
   "metadata": {},
   "source": [
    "## Creating a request"
   ]
  },
  {
   "cell_type": "markdown",
   "metadata": {},
   "source": [
    "<div class=\"alert alert-block alert-info\">\n",
    "    \n",
    "<b>Batch deployments:</b>\n",
    "If your pipeline contains one or more deployments with <code>deployment_mode='batch'</code>, it's not possible to create a pipeline <i>direct</i> request. You should create a pipeline <i>batch</i> request instead: use <code>batch_pipeline_requests_create</code> instead of <code>pipeline_requests_create</code>.<br/>\n",
    "\n",
    "<pre><code python>data = {'input': 123}\n",
    "pipeline_batch = api.batch_pipeline_requests_create(\n",
    "    project_name=PROJECT_NAME,\n",
    "    pipeline_name=PIPELINE_NAME,\n",
    "    data=[data]\n",
    ")\n",
    "print(pipeline_batch)\n",
    "</code></pre>\n",
    "\n",
    "<br/>Please, note that it is only possible to retrieve the results later if you use <code>request_retention_mode='full'</code>.<br/>\n",
    "\n",
    "<pre><code python>pipeline_result = api.pipeline_requests_get(\n",
    "    project_name=PROJECT_NAME,\n",
    "    pipeline_name=PIPELINE_NAME,\n",
    "    request_id=pipeline_batch[0].id\n",
    ")\n",
    "print(pipeline_result)\n",
    "</code></pre>\n",
    "</div>"
   ]
  },
  {
   "cell_type": "code",
   "execution_count": null,
   "metadata": {},
   "outputs": [],
   "source": [
    "data = {'input': 123}\n",
    "pipeline_result = api.pipeline_version_requests_create(\n",
    "    project_name=PROJECT_NAME,\n",
    "    pipeline_name=PIPELINE_NAME,\n",
    "    version=PIPELINE_VERSION,\n",
    "    data=data\n",
    ")\n",
    "print(pipeline_result)"
   ]
  },
  {
   "cell_type": "markdown",
   "metadata": {},
   "source": [
    "It's also possible to make a request to the *default* pipeline version. Like for deployments, the first created pipeline version automatically becomes the *default* version, and can be set to another version later."
   ]
  },
  {
   "cell_type": "code",
   "execution_count": null,
   "metadata": {},
   "outputs": [],
   "source": [
    "data = {'input': 123}\n",
    "pipeline_result = api.pipeline_requests_create(\n",
    "    project_name=PROJECT_NAME,\n",
    "    pipeline_name=PIPELINE_NAME,\n",
    "    data=data\n",
    ")\n",
    "print(pipeline_result)"
   ]
  },
  {
   "cell_type": "markdown",
   "metadata": {},
   "source": [
    "## Cleanup\n",
    "Delete created deployment."
   ]
  },
  {
   "cell_type": "code",
   "execution_count": null,
   "metadata": {},
   "outputs": [],
   "source": [
    "api.pipelines_delete(\n",
    "    project_name=PROJECT_NAME,\n",
    "    pipeline_name=PIPELINE_NAME\n",
    ")"
   ]
  },
  {
   "cell_type": "code",
   "execution_count": null,
   "metadata": {},
   "outputs": [],
   "source": [
    "api.deployments_delete(\n",
    "    project_name=PROJECT_NAME,\n",
    "    deployment_name=DEPLOYMENT_NAME\n",
    ")\n",
    "api.deployments_delete(\n",
    "    project_name=PROJECT_NAME,\n",
    "    deployment_name=DEPLOYMENT_NAME2\n",
    ")"
   ]
  },
  {
   "cell_type": "markdown",
   "metadata": {},
   "source": [
    "## Close connection\n",
    "Close the connection with the UbiOps API client."
   ]
  },
  {
   "cell_type": "code",
   "execution_count": null,
   "metadata": {},
   "outputs": [],
   "source": [
    "client.close()"
   ]
  },
  {
   "cell_type": "markdown",
   "metadata": {},
   "source": [
    " "
   ]
  }
 ],
 "metadata": {
  "kernelspec": {
   "display_name": "Python 3",
   "language": "python",
   "name": "python3"
  },
  "language_info": {
   "codemirror_mode": {
    "name": "ipython",
    "version": 3
   },
   "file_extension": ".py",
   "mimetype": "text/x-python",
   "name": "python",
   "nbconvert_exporter": "python",
   "pygments_lexer": "ipython3",
   "version": "3.7.4"
  }
 },
 "nbformat": 4,
 "nbformat_minor": 4
}
