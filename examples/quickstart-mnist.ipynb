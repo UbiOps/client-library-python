{
 "cells": [
  {
   "cell_type": "markdown",
   "metadata": {},
   "source": [
    "<img src=\"https://dutchanalytics.com/wp-content/uploads/2020/02/svg_logo_dutch_analytics-1.svg\" width=\"80\">\n",
    "\n",
    "# Quickstart MNIST demo\n",
    "Deploy your deployment in UbiOps using the python client library.\n",
    "\n",
    "\n",
    "The first step is to download a prepared deployment and some sample data."
   ]
  },
  {
   "cell_type": "code",
   "execution_count": null,
   "metadata": {},
   "outputs": [],
   "source": [
    "!curl -X GET https://storage.googleapis.com/ubiops/example-deployment-packages/mnist_deployment_package.zip -o mnist_deployment_package.zip\n",
    "!curl -X GET https://storage.googleapis.com/ubiops/example-deployment-packages/1.jpg -o 1.jpg\n",
    "!curl -X GET https://storage.googleapis.com/ubiops/example-deployment-packages/2.jpg -o 2.jpg\n",
    "!curl -X GET https://storage.googleapis.com/ubiops/example-deployment-packages/3.jpg -o 3.jpg"
   ]
  },
  {
   "cell_type": "code",
   "execution_count": null,
   "metadata": {},
   "outputs": [],
   "source": [
    "image_files = ['1.jpg', '2.jpg', '3.jpg']"
   ]
  },
  {
   "cell_type": "markdown",
   "metadata": {},
   "source": [
    "Add your API token, provide a project name, deployment name and deployment version name."
   ]
  },
  {
   "cell_type": "code",
   "execution_count": null,
   "metadata": {},
   "outputs": [],
   "source": [
    "API_TOKEN = 'Token <YOUR_API_KEY>'\n",
    "PROJECT_NAME = '<YOUR_PROJECT_NAME>'\n",
    "DEPLOYMENT_NAME = 'mnist-tutorial'\n",
    "DEPLOYMENT_VERSION = 'v1'"
   ]
  },
  {
   "cell_type": "code",
   "execution_count": null,
   "metadata": {},
   "outputs": [],
   "source": [
    "import ubiops\n",
    "configuration = ubiops.Configuration()\n",
    "configuration.api_key['Authorization'] = API_TOKEN"
   ]
  },
  {
   "cell_type": "markdown",
   "metadata": {},
   "source": [
    "Here we open the connection with the UbiOps API Client."
   ]
  },
  {
   "cell_type": "code",
   "execution_count": null,
   "metadata": {},
   "outputs": [],
   "source": [
    "client = ubiops.ApiClient(configuration)\n",
    "api = ubiops.CoreApi(client)\n",
    "api.service_status()"
   ]
  },
  {
   "cell_type": "markdown",
   "metadata": {},
   "source": [
    "## Deploy\n",
    "Create a deploytment for mnist."
   ]
  },
  {
   "cell_type": "code",
   "execution_count": null,
   "metadata": {},
   "outputs": [],
   "source": [
    "mnist_template = ubiops.DeploymentCreate(\n",
    "    name=DEPLOYMENT_NAME,\n",
    "    description='A deployment to classify handwritten digits.',\n",
    "    input_type='structured',\n",
    "    output_type='structured',\n",
    "    input_fields=[\n",
    "        ubiops.DeploymentInputFieldCreate(name='image', data_type='blob')\n",
    "    ],\n",
    "    output_fields=[\n",
    "        ubiops.DeploymentOutputFieldCreate(name='prediction', data_type='int'),\n",
    "        ubiops.DeploymentOutputFieldCreate(name='probability', data_type='double')\n",
    "    ]\n",
    ")\n",
    "\n",
    "mnist_deployment = api.deployments_create(project_name=PROJECT_NAME, data=mnist_template)\n",
    "print(mnist_deployment)"
   ]
  },
  {
   "cell_type": "markdown",
   "metadata": {},
   "source": [
    "Create a deployment version for mnist."
   ]
  },
  {
   "cell_type": "code",
   "execution_count": null,
   "metadata": {},
   "outputs": [],
   "source": [
    "version_template = ubiops.VersionCreate(\n",
    "    version=DEPLOYMENT_VERSION,\n",
    "    language='python3.6',\n",
    "    memory_allocation=1024,\n",
    "    maximum_instances=1,\n",
    "    minimum_instances=0,\n",
    "    maximum_idle_time=1800 # = 30 minutes\n",
    ")\n",
    "\n",
    "version = api.versions_create(\n",
    "    project_name=PROJECT_NAME,\n",
    "    deployment_name=DEPLOYMENT_NAME,\n",
    "    data=version_template\n",
    ")\n",
    "print(version)"
   ]
  },
  {
   "cell_type": "markdown",
   "metadata": {},
   "source": [
    "Upload the prepared deployment file to the created version."
   ]
  },
  {
   "cell_type": "code",
   "execution_count": null,
   "metadata": {},
   "outputs": [],
   "source": [
    "upload_response = api.revisions_file_upload(\n",
    "    project_name=PROJECT_NAME,\n",
    "    deployment_name=DEPLOYMENT_NAME,\n",
    "    version=DEPLOYMENT_VERSION,\n",
    "    file='mnist_deployment_package.zip'\n",
    ")\n",
    "print(upload_response)"
   ]
  },
  {
   "cell_type": "markdown",
   "metadata": {},
   "source": [
    "Check if deployment is finished building.\n",
    "This can take a few minutes."
   ]
  },
  {
   "cell_type": "code",
   "execution_count": null,
   "metadata": {},
   "outputs": [],
   "source": [
    "from time import sleep\n",
    "status = 'queued'\n",
    "while status != 'success' and status != 'failed':    \n",
    "    build_status = api.builds_get(\n",
    "        project_name=PROJECT_NAME,\n",
    "        deployment_name=DEPLOYMENT_NAME,\n",
    "        version=DEPLOYMENT_VERSION,\n",
    "        build_id=upload_response.build\n",
    "    )\n",
    "    status = build_status.status\n",
    "    print(\"{:15s}\".format(status), end='\\r')\n",
    "    sleep(1)\n",
    "print(status)"
   ]
  },
  {
   "cell_type": "markdown",
   "metadata": {},
   "source": [
    "The version is now available."
   ]
  },
  {
   "cell_type": "code",
   "execution_count": null,
   "metadata": {},
   "outputs": [],
   "source": [
    "api.versions_get(       \n",
    "    project_name=PROJECT_NAME,        \n",
    "    deployment_name=DEPLOYMENT_NAME,        \n",
    "    version=DEPLOYMENT_VERSION    \n",
    ").status"
   ]
  },
  {
   "cell_type": "markdown",
   "metadata": {},
   "source": [
    "## Create multiple direct requests\n",
    "Make sure the deployment is in 'available' state before performing deployment requests.\n",
    "\n",
    "Create a deployment request for each image and get the results directly if the request is finished.\n",
    "\n",
    "The first request is usually slow because of a cold start. A second request (performed within the `maximum_idle_time`, which was set to 30 minutes in this tutorial) will be much faster."
   ]
  },
  {
   "cell_type": "code",
   "execution_count": null,
   "metadata": {},
   "outputs": [],
   "source": [
    "from IPython.display import Image, display\n",
    "\n",
    "for image_file in image_files:\n",
    "    # Display the input image\n",
    "    display(Image(url=image_file, width=40, height=40))\n",
    "    \n",
    "    # First upload the image\n",
    "    blob = api.blobs_create(project_name=PROJECT_NAME, file=image_file)\n",
    "    \n",
    "    # Make a request using the blob id as input.\n",
    "    data = {'image': blob.id}\n",
    "    request_result = api.deployment_requests_create(\n",
    "        project_name=PROJECT_NAME,\n",
    "        deployment_name=DEPLOYMENT_NAME,\n",
    "        version=DEPLOYMENT_VERSION,\n",
    "        data=data\n",
    "    )\n",
    "    print(request_result)"
   ]
  },
  {
   "cell_type": "markdown",
   "metadata": {},
   "source": [
    "## Create single batch request\n",
    "Make sure the deployment is in 'available' state before performing deployment requests. <br/>\n",
    "Create a deployment batch request for all images at ones. This will create multiple asynchronuous requests, which means that the requests are queued in the back-end and the results can be collected at a later time."
   ]
  },
  {
   "cell_type": "code",
   "execution_count": null,
   "metadata": {},
   "outputs": [],
   "source": [
    "from IPython.display import Image, display\n",
    "\n",
    "# Upload the images\n",
    "blobs = []\n",
    "for image_file in image_files:\n",
    "    blobs.append(api.blobs_create(project_name=PROJECT_NAME, file=image_file))\n",
    "    \n",
    "# Make a batch request using the blob ids as input.\n",
    "data = [{'image': blob.id} for blob in blobs]\n",
    "created_batch = api.batch_deployment_requests_create(\n",
    "    project_name=PROJECT_NAME,\n",
    "    deployment_name=DEPLOYMENT_NAME,\n",
    "    version=DEPLOYMENT_VERSION,\n",
    "    data=data\n",
    ")\n",
    "\n",
    "# Display\n",
    "for image_file, request in zip(image_files, created_batch):\n",
    "    display(Image(url=image_file, width=40, height=40))\n",
    "    print(request)"
   ]
  },
  {
   "cell_type": "markdown",
   "metadata": {},
   "source": [
    "## Wait for results\n",
    "Display request results when they are finished."
   ]
  },
  {
   "cell_type": "code",
   "execution_count": null,
   "metadata": {},
   "outputs": [],
   "source": [
    "from time import sleep\n",
    "\n",
    "for request in created_batch:\n",
    "    print(request.id, '', end='\\r')\n",
    "    \n",
    "    status = 'pending'\n",
    "    while status != 'completed' and 'failed' not in status:    \n",
    "        request_response = api.batch_deployment_requests_get(       \n",
    "            project_name=PROJECT_NAME,        \n",
    "            deployment_name=DEPLOYMENT_NAME,        \n",
    "            version=DEPLOYMENT_VERSION,\n",
    "            request_id=request.id\n",
    "        )    \n",
    "        status = request_response.status\n",
    "        sleep(1)\n",
    "    print(request.id, status, request_response.result)"
   ]
  },
  {
   "cell_type": "markdown",
   "metadata": {},
   "source": [
    "## List all batch requests\n",
    "List all batch requests of the deployment. <br/>\n",
    "Note that batch requests are stored for a limited time. See your subscription for more information."
   ]
  },
  {
   "cell_type": "code",
   "execution_count": null,
   "metadata": {},
   "outputs": [],
   "source": [
    "import pprint\n",
    "\n",
    "all_batch_requests = api.batch_deployment_requests_list(\n",
    "    project_name=PROJECT_NAME,\n",
    "    deployment_name=DEPLOYMENT_NAME,\n",
    "    version=DEPLOYMENT_VERSION\n",
    ")\n",
    "pprint.pprint(all_batch_requests)"
   ]
  },
  {
   "cell_type": "markdown",
   "metadata": {},
   "source": [
    "## Cleanup\n",
    "Delete created deployment."
   ]
  },
  {
   "cell_type": "code",
   "execution_count": null,
   "metadata": {},
   "outputs": [],
   "source": [
    "api.deployments_delete(\n",
    "    project_name=PROJECT_NAME,\n",
    "    deployment_name=DEPLOYMENT_NAME\n",
    ")"
   ]
  },
  {
   "cell_type": "markdown",
   "metadata": {},
   "source": [
    "## Close connection\n",
    "Close the connection with the UbiOps API client."
   ]
  },
  {
   "cell_type": "code",
   "execution_count": null,
   "metadata": {},
   "outputs": [],
   "source": [
    "client.close()"
   ]
  },
  {
   "cell_type": "markdown",
   "metadata": {},
   "source": [
    " "
   ]
  }
 ],
 "metadata": {
  "kernelspec": {
   "display_name": "Python 3",
   "language": "python",
   "name": "python3"
  },
  "language_info": {
   "codemirror_mode": {
    "name": "ipython",
    "version": 3
   },
   "file_extension": ".py",
   "mimetype": "text/x-python",
   "name": "python",
   "nbconvert_exporter": "python",
   "pygments_lexer": "ipython3",
   "version": "3.7.4"
  }
 },
 "nbformat": 4,
 "nbformat_minor": 4
}
