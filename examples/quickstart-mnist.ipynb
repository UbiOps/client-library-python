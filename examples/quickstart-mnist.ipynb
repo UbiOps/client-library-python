{
 "cells": [
  {
   "cell_type": "markdown",
   "metadata": {},
   "source": [
    "<img src=\"https://dutchanalytics.com/wp-content/uploads/2020/02/svg_logo_dutch_analytics-1.svg\" width=\"80\">\n",
    "\n",
    "# Quickstart MNIST demo\n",
    "Deploy your model in UbiOps using the python client library.\n",
    "\n",
    "\n",
    "The first step is to download a prepared model and some sample data."
   ]
  },
  {
   "cell_type": "code",
   "execution_count": null,
   "metadata": {},
   "outputs": [],
   "source": [
    "!curl -X GET https://storage.googleapis.com/ubiops/example-model-packages/mnist_model_package.zip -o mnist_model_package.zip\n",
    "!curl -X GET https://storage.googleapis.com/ubiops/example-model-packages/1.jpg -o 1.jpg\n",
    "!curl -X GET https://storage.googleapis.com/ubiops/example-model-packages/2.jpg -o 2.jpg\n",
    "!curl -X GET https://storage.googleapis.com/ubiops/example-model-packages/3.jpg -o 3.jpg"
   ]
  },
  {
   "cell_type": "markdown",
   "metadata": {},
   "source": [
    "Add your API token, provide a project name, model name and model version name. \n",
    "Afterward initialize the client library."
   ]
  },
  {
   "cell_type": "code",
   "execution_count": null,
   "metadata": {},
   "outputs": [],
   "source": [
    "API_TOKEN = 'Token <YOUR API_KEY>'\n",
    "PROJECT_NAME = '<YOUR PROJECT NAME>'\n",
    "MODEL_NAME = 'mnist-tutorial'\n",
    "MODEL_VERSION = 'v1'\n",
    "image_files = ['1.jpg', '2.jpg', '3.jpg']"
   ]
  },
  {
   "cell_type": "code",
   "execution_count": null,
   "metadata": {},
   "outputs": [],
   "source": [
    "import ubiops\n",
    "configuration = ubiops.Configuration()\n",
    "configuration.api_key['Authorization'] = API_TOKEN\n",
    "client = ubiops.ApiClient(configuration)\n",
    "api = ubiops.CoreApi(client)\n",
    "api.service_status()"
   ]
  },
  {
   "cell_type": "markdown",
   "metadata": {},
   "source": [
    "## Deploy the model\n",
    "Create a model for mnist."
   ]
  },
  {
   "cell_type": "code",
   "execution_count": null,
   "metadata": {},
   "outputs": [],
   "source": [
    "mnist_model_template = ubiops.ModelCreate(\n",
    "    name=f'{MODEL_NAME}',\n",
    "    description='A model to classify handwritten digits.',\n",
    "    input_type='structured',\n",
    "    output_type='structured',\n",
    "    input_fields=[\n",
    "        ubiops.ModelInputFieldCreate(\n",
    "            name='image',\n",
    "            data_type='blob',\n",
    "        )\n",
    "    ],\n",
    "    output_fields=[\n",
    "        ubiops.ModelOutputFieldCreate(\n",
    "            name='prediction',\n",
    "            data_type='int',\n",
    "        ),\n",
    "        ubiops.ModelOutputFieldCreate(\n",
    "            name='probability',\n",
    "            data_type='double'\n",
    "        )\n",
    "    ]\n",
    ")\n",
    "\n",
    "mnist_model = api.models_create(\n",
    "    project_name=f'{PROJECT_NAME}',\n",
    "    data=mnist_model_template\n",
    ")\n",
    "print(mnist_model)"
   ]
  },
  {
   "cell_type": "markdown",
   "metadata": {},
   "source": [
    "Create a model version for mnist."
   ]
  },
  {
   "cell_type": "code",
   "execution_count": null,
   "metadata": {},
   "outputs": [],
   "source": [
    "mnist_model_version_template = ubiops.ModelVersionCreate(\n",
    "    version=f'{MODEL_VERSION}',\n",
    "    language='python3.6',\n",
    "    memory_allocation=1024,\n",
    "    maximum_instances=1,\n",
    "    minimum_instances=0,\n",
    "    maximum_idle_time=1800 # = 30 minutes\n",
    ")\n",
    "\n",
    "mnist_model_version = api.model_versions_create(\n",
    "    project_name=f'{PROJECT_NAME}',\n",
    "    model_name=f'{MODEL_NAME}',\n",
    "    data=mnist_model_version_template\n",
    ")\n",
    "print(mnist_model_version)"
   ]
  },
  {
   "cell_type": "markdown",
   "metadata": {},
   "source": [
    "Upload the prepared model file to the created model version."
   ]
  },
  {
   "cell_type": "code",
   "execution_count": null,
   "metadata": {},
   "outputs": [],
   "source": [
    "file_upload_result =api.model_versions_file_upload(\n",
    "    project_name=f'{PROJECT_NAME}',\n",
    "    model_name=f'{MODEL_NAME}',\n",
    "    version=f'{MODEL_VERSION}',\n",
    "    file='mnist_model_package.zip'\n",
    ")"
   ]
  },
  {
   "cell_type": "markdown",
   "metadata": {},
   "source": [
    "Check if model version is finished building.\n",
    "This can take a few minutes."
   ]
  },
  {
   "cell_type": "code",
   "execution_count": null,
   "metadata": {},
   "outputs": [],
   "source": [
    "from time import sleep\n",
    "status = 'building'\n",
    "while status != 'available' and 'failed' not in status:    \n",
    "    model_version_status = api.model_versions_get(       \n",
    "        project_name=f'{PROJECT_NAME}',        \n",
    "        model_name=f'{MODEL_NAME}',        \n",
    "        version=f'{MODEL_VERSION}'    \n",
    "    )    \n",
    "    status = model_version_status.status\n",
    "    sleep(1)\n",
    "print(status)"
   ]
  },
  {
   "cell_type": "markdown",
   "metadata": {},
   "source": [
    "## Create multiple direct requests\n",
    "Make sure the model is in 'available' state before performing model requests.\n",
    "\n",
    "Create a model request for each image and get the results directly if the request is finished."
   ]
  },
  {
   "cell_type": "code",
   "execution_count": null,
   "metadata": {},
   "outputs": [],
   "source": [
    "from IPython.display import Image, display\n",
    "\n",
    "for image_file in image_files:\n",
    "    # Display the input image\n",
    "    display(Image(url=image_file, width=40, height=40))\n",
    "    \n",
    "    # First upload the image\n",
    "    blob = api.blobs_create(project_name=f'{PROJECT_NAME}', file=image_file)\n",
    "    \n",
    "    # Make a request using the blob id as input.\n",
    "    data = {'image': blob.id}\n",
    "    model_result = api.model_requests_create(\n",
    "        project_name=f'{PROJECT_NAME}',\n",
    "        model_name=f'{MODEL_NAME}',\n",
    "        version=f'{MODEL_VERSION}',\n",
    "        data=data\n",
    "    )\n",
    "    print(model_result)"
   ]
  },
  {
   "cell_type": "markdown",
   "metadata": {},
   "source": [
    "## Create single batch request\n",
    "Make sure the model is in 'available' state before performing model requests. <br/>\n",
    "Create a model batch request for all images at ones. This will create multiple asynchronuous requests, which means that the requests are queued in the back-end and the results can be collected at a later time."
   ]
  },
  {
   "cell_type": "code",
   "execution_count": null,
   "metadata": {},
   "outputs": [],
   "source": [
    "from IPython.display import Image, display\n",
    "\n",
    "# Upload the images\n",
    "blobs = []\n",
    "for image_file in image_files:\n",
    "    blobs.append(api.blobs_create(project_name=f'{PROJECT_NAME}', file=image_file))\n",
    "    \n",
    "# Make a batch request using the blob ids as input.\n",
    "data = [{'image': blob.id} for blob in blobs]\n",
    "created_batch = api.batch_model_requests_create(\n",
    "    project_name=f'{PROJECT_NAME}',\n",
    "    model_name=f'{MODEL_NAME}',\n",
    "    version=f'{MODEL_VERSION}',\n",
    "    data=data\n",
    ")\n",
    "\n",
    "# Display\n",
    "for image_file, request in zip(image_files, created_batch):\n",
    "    display(Image(url=image_file, width=40, height=40))\n",
    "    print(request)"
   ]
  },
  {
   "cell_type": "markdown",
   "metadata": {},
   "source": [
    "## Wait for results\n",
    "Display request results when they are finished."
   ]
  },
  {
   "cell_type": "code",
   "execution_count": null,
   "metadata": {},
   "outputs": [],
   "source": [
    "from time import sleep\n",
    "\n",
    "for request in created_batch:\n",
    "    print(request.id, '', end='\\r')\n",
    "    \n",
    "    status = 'pending'\n",
    "    while status != 'completed' and 'failed' not in status:    \n",
    "        request_response = api.batch_model_requests_get(       \n",
    "            project_name=f'{PROJECT_NAME}',        \n",
    "            model_name=f'{MODEL_NAME}',        \n",
    "            version=f'{MODEL_VERSION}',\n",
    "            request_id=request.id\n",
    "        )    \n",
    "        status = request_response.status\n",
    "        sleep(1)\n",
    "    print(request.id, status, request_response.result)"
   ]
  },
  {
   "cell_type": "markdown",
   "metadata": {},
   "source": [
    "## List all batch requests\n",
    "List all batch requests of the model. <br/>\n",
    "Note that batch requests are stored for a limited time. See your subscription for more information."
   ]
  },
  {
   "cell_type": "code",
   "execution_count": null,
   "metadata": {
    "scrolled": true
   },
   "outputs": [],
   "source": [
    "import pprint\n",
    "\n",
    "all_batch_requests = api.batch_model_requests_list(\n",
    "    project_name=f'{PROJECT_NAME}',\n",
    "    model_name=f'{MODEL_NAME}',\n",
    "    version=f'{MODEL_VERSION}'\n",
    ")\n",
    "pprint.pprint(all_batch_requests)"
   ]
  },
  {
   "cell_type": "markdown",
   "metadata": {},
   "source": [
    "## Cleanup\n",
    "Delete created model."
   ]
  },
  {
   "cell_type": "code",
   "execution_count": null,
   "metadata": {},
   "outputs": [],
   "source": [
    "api.models_delete(\n",
    "    project_name=f'{PROJECT_NAME}',\n",
    "    model_name=f'{MODEL_NAME}'\n",
    ")"
   ]
  },
  {
   "cell_type": "markdown",
   "metadata": {},
   "source": [
    " "
   ]
  }
 ],
 "metadata": {
  "kernelspec": {
   "display_name": "Python 3",
   "language": "python",
   "name": "python3"
  },
  "language_info": {
   "codemirror_mode": {
    "name": "ipython",
    "version": 3
   },
   "file_extension": ".py",
   "mimetype": "text/x-python",
   "name": "python",
   "nbconvert_exporter": "python",
   "pygments_lexer": "ipython3",
   "version": "3.6.10"
  }
 },
 "nbformat": 4,
 "nbformat_minor": 4
}
