{
 "cells": [
  {
   "cell_type": "markdown",
   "metadata": {},
   "source": [
    "<img src=\"ubiops_logo.svg\" width=\"80\">\n",
    "\n",
    "# Quickstart MNIST\n",
    "Deploy your deployment in UbiOps using the python client library.\n",
    "\n",
    "\n",
    "The first step is to [download](https://storage.googleapis.com/ubiops/example-deployment-packages/mnist_deployment_package.zip) a prepared deployment and some sample data ([image1](https://storage.googleapis.com/ubiops/example-deployment-packages/1.jpg), [image2](https://storage.googleapis.com/ubiops/example-deployment-packages/2.jpg), [image3](https://storage.googleapis.com/ubiops/example-deployment-packages/3.jpg))."
   ]
  },
  {
   "cell_type": "code",
   "execution_count": null,
   "metadata": {},
   "outputs": [],
   "source": [
    "!curl -X GET https://storage.googleapis.com/ubiops/example-deployment-packages/mnist_deployment_package_python3-12.zip -o mnist_deployment_package.zip\n",
    "!curl -X GET https://storage.googleapis.com/ubiops/example-deployment-packages/mnist_environment_package_python3-12.zip -o mnist_environment_package.zip\n",
    "!curl -X GET https://storage.googleapis.com/ubiops/example-deployment-packages/1.jpg -o 1.jpg\n",
    "!curl -X GET https://storage.googleapis.com/ubiops/example-deployment-packages/2.jpg -o 2.jpg\n",
    "!curl -X GET https://storage.googleapis.com/ubiops/example-deployment-packages/3.jpg -o 3.jpg"
   ]
  },
  {
   "cell_type": "code",
   "execution_count": null,
   "metadata": {},
   "outputs": [],
   "source": [
    "image_files = ['1.jpg', '2.jpg', '3.jpg']"
   ]
  },
  {
   "cell_type": "markdown",
   "metadata": {},
   "source": [
    "Add your API token and project name. You can also adapt the deployment name and deployment version name or leave the default values. Afterwards we initialize the client library, which establishes the connection with UbiOps."
   ]
  },
  {
   "cell_type": "code",
   "execution_count": null,
   "metadata": {},
   "outputs": [],
   "source": [
    "PROJECT_NAME = '<YOUR_PROJECT_NAME>'\n",
    "DEPLOYMENT_NAME = 'mnist-tutorial'\n",
    "DEPLOYMENT_VERSION = 'v1'\n",
    "ENVIRONMENT_NAME = DEPLOYMENT_NAME"
   ]
  },
  {
   "cell_type": "code",
   "execution_count": null,
   "metadata": {},
   "outputs": [],
   "source": [
    "import ubiops\n",
    "from getpass import getpass\n",
    "\n",
    "api_token = getpass(\"Enter your UbiOps API token: \")\n",
    "if not api_token.startswith(\"Token \"):\n",
    "    api_token = f\"Token {api_token}\"\n",
    "\n",
    "configuration = ubiops.Configuration(host=\"https://api.ubiops.com/v2.1\")\n",
    "configuration.api_key['Authorization'] = api_token"
   ]
  },
  {
   "cell_type": "markdown",
   "metadata": {},
   "source": [
    "Here we open the connection with the UbiOps API Client."
   ]
  },
  {
   "cell_type": "code",
   "execution_count": null,
   "metadata": {},
   "outputs": [],
   "source": [
    "client = ubiops.ApiClient(configuration)\n",
    "api = ubiops.CoreApi(client)\n",
    "api.service_status()"
   ]
  },
  {
   "cell_type": "markdown",
   "metadata": {},
   "source": [
    "## Deploy\n",
    "Create a deployment for mnist."
   ]
  },
  {
   "cell_type": "code",
   "execution_count": null,
   "metadata": {},
   "outputs": [],
   "source": [
    "mnist_template = ubiops.DeploymentCreate(\n",
    "    name=DEPLOYMENT_NAME,\n",
    "    description='A deployment to classify handwritten digits.',\n",
    "    input_type='structured',\n",
    "    output_type='structured',\n",
    "    input_fields=[\n",
    "        {'name': 'image', 'data_type': 'file'}\n",
    "    ],\n",
    "    output_fields=[\n",
    "        {'name': 'prediction', 'data_type': 'int'},\n",
    "        {'name': 'probability', 'data_type': 'double'}\n",
    "    ],\n",
    "    labels={\"demo\": \"mnist\"}\n",
    ")\n",
    "\n",
    "mnist_deployment = api.deployments_create(project_name=PROJECT_NAME, data=mnist_template)\n",
    "print(mnist_deployment)"
   ]
  },
  {
   "cell_type": "markdown",
   "metadata": {},
   "source": [
    "Create an environment containing the packages we need."
   ]
  },
  {
   "cell_type": "code",
   "execution_count": null,
   "metadata": {},
   "outputs": [],
   "source": [
    "environment_template = ubiops.EnvironmentCreate(\n",
    "    name=ENVIRONMENT_NAME,\n",
    "    description='An environment for MNIST',\n",
    "    base_environment=\"python3-12\",\n",
    "    labels={\"demo\": \"mnist\"}\n",
    ")\n",
    "\n",
    "mnist_environment = api.environments_create(project_name=PROJECT_NAME, data=environment_template)\n",
    "print(mnist_environment)"
   ]
  },
  {
   "cell_type": "code",
   "execution_count": null,
   "metadata": {},
   "outputs": [],
   "source": [
    "upload_response = api.environment_revisions_file_upload(\n",
    "    project_name=PROJECT_NAME,\n",
    "    environment_name=ENVIRONMENT_NAME,\n",
    "    file='mnist_environment_package.zip'\n",
    ")\n",
    "print(upload_response)"
   ]
  },
  {
   "cell_type": "code",
   "execution_count": null,
   "metadata": {
    "scrolled": true
   },
   "outputs": [],
   "source": [
    "ubiops.utils.wait_for_environment(\n",
    "    client=client,\n",
    "    project_name=PROJECT_NAME,\n",
    "    environment_name=ENVIRONMENT_NAME,\n",
    "    stream_logs=True\n",
    ")"
   ]
  },
  {
   "cell_type": "markdown",
   "metadata": {},
   "source": [
    "Create a deployment version for mnist.\n",
    "\n",
    "- Use `request_retention_mode='full'` to store all requests made to the deployment version, so we can retrieve them later in this notebook."
   ]
  },
  {
   "cell_type": "code",
   "execution_count": null,
   "metadata": {},
   "outputs": [],
   "source": [
    "version_template = ubiops.DeploymentVersionCreate(\n",
    "    version=DEPLOYMENT_VERSION,\n",
    "    environment=ENVIRONMENT_NAME,\n",
    "    instance_type_group_name='1024 MB + 0.25 vCPU',\n",
    "    maximum_instances=1,\n",
    "    minimum_instances=0,\n",
    "    maximum_idle_time=1800, # = 30 minutes\n",
    "    request_retention_mode='full',  # input/output of requests will be stored\n",
    "    request_retention_time=3600  # requests will be stored for 1 hour\n",
    ")\n",
    "\n",
    "version = api.deployment_versions_create(\n",
    "    project_name=PROJECT_NAME,\n",
    "    deployment_name=DEPLOYMENT_NAME,\n",
    "    data=version_template\n",
    ")\n",
    "print(version)"
   ]
  },
  {
   "cell_type": "markdown",
   "metadata": {},
   "source": [
    "Upload the prepared deployment file to the created version."
   ]
  },
  {
   "cell_type": "code",
   "execution_count": null,
   "metadata": {},
   "outputs": [],
   "source": [
    "upload_response = api.revisions_file_upload(\n",
    "    project_name=PROJECT_NAME,\n",
    "    deployment_name=DEPLOYMENT_NAME,\n",
    "    version=DEPLOYMENT_VERSION,\n",
    "    file='mnist_deployment_package.zip'\n",
    ")\n",
    "print(upload_response)"
   ]
  },
  {
   "cell_type": "markdown",
   "metadata": {},
   "source": [
    "Check if deployment is finished building.\n",
    "This can take a few minutes."
   ]
  },
  {
   "cell_type": "code",
   "execution_count": null,
   "metadata": {},
   "outputs": [],
   "source": [
    "ubiops.utils.wait_for_deployment_version(\n",
    "    client=api.api_client,\n",
    "    project_name=PROJECT_NAME,\n",
    "    deployment_name=DEPLOYMENT_NAME,\n",
    "    version=DEPLOYMENT_VERSION,\n",
    "    revision_id=upload_response.revision,\n",
    "    stream_logs=True\n",
    ")"
   ]
  },
  {
   "cell_type": "markdown",
   "metadata": {},
   "source": [
    "The version is now available."
   ]
  },
  {
   "cell_type": "code",
   "execution_count": null,
   "metadata": {},
   "outputs": [],
   "source": [
    "api.deployment_versions_get(\n",
    "    project_name=PROJECT_NAME,\n",
    "    deployment_name=DEPLOYMENT_NAME,\n",
    "    version=DEPLOYMENT_VERSION\n",
    ").status"
   ]
  },
  {
   "cell_type": "markdown",
   "metadata": {},
   "source": [
    "## Create multiple direct requests\n",
    "Make sure the deployment is in 'available' state before performing deployment requests.\n",
    "\n",
    "Create a deployment request for each image and get the results directly if the request is finished.\n",
    "\n",
    "The first request is usually slow because of a cold start. A second request (performed within the `maximum_idle_time`, which was set to 30 minutes in this tutorial) will be much faster."
   ]
  },
  {
   "cell_type": "code",
   "execution_count": null,
   "metadata": {},
   "outputs": [],
   "source": [
    "from IPython.display import Image, display\n",
    "\n",
    "for image_file in image_files:\n",
    "    # Display the input image\n",
    "    display(Image(url=image_file, width=40, height=40))\n",
    "    \n",
    "    # First upload the image to ubiops\n",
    "    file_uri = ubiops.utils.upload_file(\n",
    "        client=client,\n",
    "        project_name=PROJECT_NAME,\n",
    "        file_path=image_file,\n",
    "        _progress_bar=False\n",
    "    )\n",
    "    \n",
    "    # Make a request using the file as input\n",
    "    data = {'image': file_uri}\n",
    "    request_i = api.deployment_version_requests_create(\n",
    "        project_name=PROJECT_NAME,\n",
    "        deployment_name=DEPLOYMENT_NAME,\n",
    "        version=DEPLOYMENT_VERSION,\n",
    "        data=data\n",
    "    )\n",
    "    \n",
    "    # Or make a request to the default deployment version:\n",
    "#     request_i = api.deployment_requests_create(\n",
    "#         project_name=PROJECT_NAME,\n",
    "#         deployment_name=DEPLOYMENT_NAME,\n",
    "#         data=data\n",
    "#     )\n",
    "    print(request_i.result)"
   ]
  },
  {
   "cell_type": "markdown",
   "metadata": {},
   "source": [
    "## List all requests\n",
    "List all requests of the deployment. <br/>\n",
    "\n",
    "<div class=\"alert alert-block alert-info\">\n",
    "    \n",
    "Requests are only stored if you have <code>request_retention_model='full'</code> for your deployment version. They are stored for a limited time (<code>request_retention_time</code> seconds).\n",
    "</div>"
   ]
  },
  {
   "cell_type": "code",
   "execution_count": null,
   "metadata": {
    "scrolled": true
   },
   "outputs": [],
   "source": [
    "import pprint\n",
    "\n",
    "all_requests = api.deployment_version_requests_list(\n",
    "    project_name=PROJECT_NAME,\n",
    "    deployment_name=DEPLOYMENT_NAME,\n",
    "    version=DEPLOYMENT_VERSION\n",
    ")\n",
    "pprint.pprint(all_requests)"
   ]
  },
  {
   "cell_type": "markdown",
   "metadata": {},
   "source": [
    "## Retrieve a request\n",
    "Retrieve the details of a single request of the deployment. <br/>"
   ]
  },
  {
   "cell_type": "code",
   "execution_count": null,
   "metadata": {},
   "outputs": [],
   "source": [
    "request_1 = api.deployment_version_requests_get(\n",
    "    project_name=PROJECT_NAME,\n",
    "    deployment_name=DEPLOYMENT_NAME,\n",
    "    version=DEPLOYMENT_VERSION,\n",
    "    request_id=all_requests[0].id\n",
    ")\n",
    "print(request_1)"
   ]
  },
  {
   "cell_type": "markdown",
   "metadata": {},
   "source": [
    "## Cleanup\n",
    "Delete created deployment."
   ]
  },
  {
   "cell_type": "code",
   "execution_count": null,
   "metadata": {},
   "outputs": [],
   "source": [
    "api.deployments_delete(project_name=PROJECT_NAME, deployment_name=DEPLOYMENT_NAME)"
   ]
  },
  {
   "cell_type": "markdown",
   "metadata": {},
   "source": [
    "## Close connection\n",
    "Close the connection with the UbiOps API client."
   ]
  },
  {
   "cell_type": "code",
   "execution_count": null,
   "metadata": {},
   "outputs": [],
   "source": [
    "client.close()"
   ]
  },
  {
   "cell_type": "markdown",
   "metadata": {},
   "source": [
    " "
   ]
  }
 ],
 "metadata": {
  "kernelspec": {
   "display_name": "Python 3",
   "language": "python",
   "name": "python3"
  },
  "language_info": {
   "codemirror_mode": {
    "name": "ipython",
    "version": 3
   },
   "file_extension": ".py",
   "mimetype": "text/x-python",
   "name": "python",
   "nbconvert_exporter": "python",
   "pygments_lexer": "ipython3",
   "version": "3.12.11"
  }
 },
 "nbformat": 4,
 "nbformat_minor": 4
}
