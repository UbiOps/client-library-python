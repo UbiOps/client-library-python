{
 "cells": [
  {
   "cell_type": "markdown",
   "metadata": {},
   "source": [
    "<img src=\"https://dutchanalytics.com/wp-content/uploads/2020/02/svg_logo_dutch_analytics-1.svg\" width=\"80\">\n",
    "\n",
    "# Quickstart\n",
    "Deploy a simple float-to-float model in UbiOps using the python client library.\n",
    "\n",
    "\n",
    "The first step is to download a prepared model package (the model code)."
   ]
  },
  {
   "cell_type": "code",
   "execution_count": null,
   "metadata": {},
   "outputs": [],
   "source": [
    "!curl -X GET https://storage.googleapis.com/ubiops/example-model-packages/example_model_package.zip -o simple_model_package.zip"
   ]
  },
  {
   "cell_type": "markdown",
   "metadata": {},
   "source": [
    "Add your API token, provide a project name, model name and model version name. \n",
    "Afterward initialize the client library."
   ]
  },
  {
   "cell_type": "code",
   "execution_count": null,
   "metadata": {},
   "outputs": [],
   "source": [
    "API_TOKEN='Token <YOUR_API_KEY>'\n",
    "PROJECT_NAME='<YOUR_PROJECT_NAME>'\n",
    "MODEL_NAME='simple-tutorial'\n",
    "MODEL_VERSION='v1'"
   ]
  },
  {
   "cell_type": "code",
   "execution_count": null,
   "metadata": {},
   "outputs": [],
   "source": [
    "import ubiops\n",
    "configuration = ubiops.Configuration()\n",
    "configuration.api_key['Authorization'] = API_TOKEN\n",
    "client = ubiops.ApiClient(configuration)\n",
    "api = ubiops.CoreApi(client)\n",
    "api.service_status()"
   ]
  },
  {
   "cell_type": "markdown",
   "metadata": {},
   "source": [
    "## Deploy the model\n",
    "Create a model."
   ]
  },
  {
   "cell_type": "code",
   "execution_count": null,
   "metadata": {},
   "outputs": [],
   "source": [
    "model_template = ubiops.ModelCreate(\n",
    "    name=MODEL_NAME,\n",
    "    description='A simple model that multiplies the input float by a random number.',\n",
    "    input_type='structured',\n",
    "    output_type='structured',\n",
    "    input_fields=[ubiops.ModelInputFieldCreate(name='input', data_type='double')],\n",
    "    output_fields=[ubiops.ModelOutputFieldCreate(name='output', data_type='double')]\n",
    ")\n",
    "\n",
    "model = api.models_create(project_name=PROJECT_NAME, data=model_template)\n",
    "print(model)"
   ]
  },
  {
   "cell_type": "markdown",
   "metadata": {},
   "source": [
    "Create a model version."
   ]
  },
  {
   "cell_type": "code",
   "execution_count": null,
   "metadata": {},
   "outputs": [],
   "source": [
    "model_version_template = ubiops.ModelVersionCreate(\n",
    "    version=MODEL_VERSION,\n",
    "    language='python3.7',\n",
    "    memory_allocation=256,\n",
    "    maximum_instances=1,\n",
    "    minimum_instances=0,\n",
    "    maximum_idle_time=1800 # = 30 minutes\n",
    ")\n",
    "\n",
    "model_version = api.model_versions_create(\n",
    "    project_name=PROJECT_NAME,\n",
    "    model_name=MODEL_NAME,\n",
    "    data=model_version_template\n",
    ")\n",
    "print(model_version)"
   ]
  },
  {
   "cell_type": "markdown",
   "metadata": {},
   "source": [
    "Upload the prepared model file to the created model version."
   ]
  },
  {
   "cell_type": "code",
   "execution_count": null,
   "metadata": {},
   "outputs": [],
   "source": [
    "file_upload_result =api.model_versions_file_upload(\n",
    "    project_name=PROJECT_NAME,\n",
    "    model_name=MODEL_NAME,\n",
    "    version=MODEL_VERSION,\n",
    "    file='simple_model_package.zip'\n",
    ")"
   ]
  },
  {
   "cell_type": "markdown",
   "metadata": {},
   "source": [
    "Check if model version is finished building.\n",
    "This can take a few minutes."
   ]
  },
  {
   "cell_type": "code",
   "execution_count": null,
   "metadata": {},
   "outputs": [],
   "source": [
    "from time import sleep\n",
    "status = 'building'\n",
    "while status != 'available' and 'failed' not in status:    \n",
    "    model_version_status = api.model_versions_get(       \n",
    "        project_name=PROJECT_NAME,        \n",
    "        model_name=MODEL_NAME,        \n",
    "        version=MODEL_VERSION    \n",
    "    )    \n",
    "    status = model_version_status.status\n",
    "    print(status, end='\\r')\n",
    "    sleep(1)\n",
    "print(status)"
   ]
  },
  {
   "cell_type": "markdown",
   "metadata": {},
   "source": [
    "## Creating a direct request\n",
    "Make sure the model is in 'available' state before performing model requests."
   ]
  },
  {
   "cell_type": "code",
   "execution_count": null,
   "metadata": {},
   "outputs": [],
   "source": [
    "data = {'input': 123}\n",
    "model_result = api.model_requests_create(\n",
    "    project_name=PROJECT_NAME,\n",
    "    model_name=MODEL_NAME,\n",
    "    version=MODEL_VERSION,\n",
    "    data=data\n",
    ")\n",
    "print(model_result)"
   ]
  },
  {
   "cell_type": "markdown",
   "metadata": {},
   "source": [
    "***\n",
    "\n",
    "# Pipelines\n",
    "\n",
    "Multiple models can be chained using a *pipeline*. In this tutorial, we will chain the model created above with a new model. Just for demo purposes, we will use the same model package (the same code) for both models in the pipeline. Therefore, the pipeline will contain two modelling steps: each step will multiply the input by a random number."
   ]
  },
  {
   "cell_type": "markdown",
   "metadata": {},
   "source": [
    "## Create another model and version\n",
    "Normally you would like to chain different models. However, just for demo purposes, we will use the same model package as used above."
   ]
  },
  {
   "cell_type": "markdown",
   "metadata": {},
   "source": [
    "Create the model and version"
   ]
  },
  {
   "cell_type": "code",
   "execution_count": null,
   "metadata": {},
   "outputs": [],
   "source": [
    "MODEL_NAME2 = f\"{MODEL_NAME}-2\"\n",
    "model_template2 = model_template\n",
    "model_template2.name = MODEL_NAME2\n",
    "\n",
    "api.models_create(\n",
    "    project_name=PROJECT_NAME,\n",
    "    data=model_template2\n",
    ")\n",
    "\n",
    "api.model_versions_create(\n",
    "    project_name=PROJECT_NAME,\n",
    "    model_name=MODEL_NAME2,\n",
    "    data=model_version_template\n",
    ")"
   ]
  },
  {
   "cell_type": "markdown",
   "metadata": {},
   "source": [
    "Upload the zip"
   ]
  },
  {
   "cell_type": "code",
   "execution_count": null,
   "metadata": {},
   "outputs": [],
   "source": [
    "api.model_versions_file_upload(\n",
    "    project_name=PROJECT_NAME,\n",
    "    model_name=MODEL_NAME2,\n",
    "    version=MODEL_VERSION,\n",
    "    file='simple_model_package.zip'\n",
    ")"
   ]
  },
  {
   "cell_type": "markdown",
   "metadata": {},
   "source": [
    "Wait for the model to be ready"
   ]
  },
  {
   "cell_type": "code",
   "execution_count": null,
   "metadata": {},
   "outputs": [],
   "source": [
    "from time import sleep\n",
    "status = 'building'\n",
    "print(status, end='\\r')\n",
    "while status != 'available' and 'failed' not in status:    \n",
    "    model_version_status = api.model_versions_get(       \n",
    "        project_name=PROJECT_NAME,        \n",
    "        model_name=MODEL_NAME2,        \n",
    "        version=MODEL_VERSION    \n",
    "    )    \n",
    "    status = model_version_status.status\n",
    "    print(status, end='\\r')\n",
    "    sleep(1)\n",
    "print(status)"
   ]
  },
  {
   "cell_type": "markdown",
   "metadata": {},
   "source": [
    "## Create a pipeline"
   ]
  },
  {
   "cell_type": "code",
   "execution_count": null,
   "metadata": {},
   "outputs": [],
   "source": [
    "PIPELINE_NAME = f\"{MODEL_NAME}-pipeline\""
   ]
  },
  {
   "cell_type": "code",
   "execution_count": null,
   "metadata": {},
   "outputs": [],
   "source": [
    "pipeline_template = ubiops.PipelineCreate(\n",
    "    name=PIPELINE_NAME,\n",
    "    description='A simple pipeline that multiplies the input float by a random number.',\n",
    "    input_type='structured',\n",
    "    input_fields=[ubiops.ModelInputFieldCreate(name='input', data_type='double')]\n",
    ")\n",
    "\n",
    "api.pipelines_create(project_name=PROJECT_NAME, data=pipeline_template)"
   ]
  },
  {
   "cell_type": "markdown",
   "metadata": {},
   "source": [
    "## Add models as objects to pipeline"
   ]
  },
  {
   "cell_type": "code",
   "execution_count": null,
   "metadata": {},
   "outputs": [],
   "source": [
    "object_template = ubiops.PipelineObjectCreate(\n",
    "    name=MODEL_NAME,\n",
    "    reference_type='model',\n",
    "    reference_name=MODEL_NAME,\n",
    "    version=MODEL_VERSION\n",
    ")\n",
    "api.pipeline_objects_create(project_name=PROJECT_NAME, pipeline_name=PIPELINE_NAME, data=object_template)"
   ]
  },
  {
   "cell_type": "code",
   "execution_count": null,
   "metadata": {},
   "outputs": [],
   "source": [
    "object_template2 = ubiops.PipelineObjectCreate(\n",
    "    name=MODEL_NAME2,\n",
    "    reference_type='model',\n",
    "    reference_name=MODEL_NAME2,\n",
    "    version=MODEL_VERSION\n",
    ")\n",
    "api.pipeline_objects_create(project_name=PROJECT_NAME, pipeline_name=PIPELINE_NAME, data=object_template2)"
   ]
  },
  {
   "cell_type": "markdown",
   "metadata": {},
   "source": [
    "## Connect the objects"
   ]
  },
  {
   "cell_type": "markdown",
   "metadata": {},
   "source": [
    "start -> model1"
   ]
  },
  {
   "cell_type": "code",
   "execution_count": null,
   "metadata": {},
   "outputs": [],
   "source": [
    "connection_template = ubiops.AttachmentsCreate(\n",
    "    source_name='pipeline_start', \n",
    "    destination_name=MODEL_NAME,\n",
    "    mapping=[ubiops.AttachmentFieldsCreate(source_field_name='input', destination_field_name='input')]\n",
    ")\n",
    "\n",
    "api.pipeline_object_attachments_create(\n",
    "    project_name=PROJECT_NAME, \n",
    "    pipeline_name=PIPELINE_NAME, \n",
    "    data=connection_template\n",
    ")"
   ]
  },
  {
   "cell_type": "markdown",
   "metadata": {},
   "source": [
    "model1 -> model2"
   ]
  },
  {
   "cell_type": "code",
   "execution_count": null,
   "metadata": {},
   "outputs": [],
   "source": [
    "connection_template = ubiops.AttachmentsCreate(\n",
    "    source_name=MODEL_NAME, \n",
    "    destination_name=MODEL_NAME2,\n",
    "    mapping=[ubiops.AttachmentFieldsCreate(source_field_name='output', destination_field_name='input')]\n",
    ")\n",
    "\n",
    "api.pipeline_object_attachments_create(\n",
    "    project_name=PROJECT_NAME, \n",
    "    pipeline_name=PIPELINE_NAME, \n",
    "    data=connection_template\n",
    ")"
   ]
  },
  {
   "cell_type": "markdown",
   "metadata": {},
   "source": [
    "## Creating a direct request"
   ]
  },
  {
   "cell_type": "code",
   "execution_count": null,
   "metadata": {},
   "outputs": [],
   "source": [
    "data = {'input': 123}\n",
    "pipeline_result = api.pipelines_request(\n",
    "    project_name=PROJECT_NAME,\n",
    "    pipeline_name=PIPELINE_NAME,\n",
    "    data=data\n",
    ")\n",
    "print(pipeline_result)"
   ]
  },
  {
   "cell_type": "markdown",
   "metadata": {},
   "source": [
    "## Cleanup\n",
    "Delete created model."
   ]
  },
  {
   "cell_type": "code",
   "execution_count": null,
   "metadata": {},
   "outputs": [],
   "source": [
    "api.pipelines_delete(\n",
    "    project_name=PROJECT_NAME,\n",
    "    pipeline_name=PIPELINE_NAME\n",
    ")\n",
    "api.models_delete(\n",
    "    project_name=PROJECT_NAME,\n",
    "    model_name=MODEL_NAME\n",
    ")\n",
    "api.models_delete(\n",
    "    project_name=PROJECT_NAME,\n",
    "    model_name=MODEL_NAME2\n",
    ")"
   ]
  },
  {
   "cell_type": "markdown",
   "metadata": {},
   "source": [
    " "
   ]
  }
 ],
 "metadata": {
  "kernelspec": {
   "display_name": "Python 3",
   "language": "python",
   "name": "python3"
  },
  "language_info": {
   "codemirror_mode": {
    "name": "ipython",
    "version": 3
   },
   "file_extension": ".py",
   "mimetype": "text/x-python",
   "name": "python",
   "nbconvert_exporter": "python",
   "pygments_lexer": "ipython3",
   "version": "3.6.10"
  }
 },
 "nbformat": 4,
 "nbformat_minor": 4
}
