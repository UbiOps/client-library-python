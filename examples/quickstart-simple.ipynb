{
 "cells": [
  {
   "cell_type": "markdown",
   "metadata": {},
   "source": [
    "<img src=\"https://dutchanalytics.com/wp-content/uploads/2020/02/svg_logo_dutch_analytics-1.svg\" width=\"80\">\n",
    "\n",
    "# Quickstart\n",
    "Deploy a simple float-to-float model in UbiOps using the python client library.\n",
    "\n",
    "\n",
    "The first step is to download a prepared model."
   ]
  },
  {
   "cell_type": "code",
   "execution_count": null,
   "metadata": {},
   "outputs": [],
   "source": [
    "!curl -X GET https://storage.googleapis.com/ubiops/example-model-packages/example_model_package.zip -o simple_model_package.zip"
   ]
  },
  {
   "cell_type": "markdown",
   "metadata": {},
   "source": [
    "Add your API token, provide a project name, model name and model version name. \n",
    "Afterward initialize the client library."
   ]
  },
  {
   "cell_type": "code",
   "execution_count": null,
   "metadata": {},
   "outputs": [],
   "source": [
    "API_TOKEN='Token <YOUR API_KEY>'\n",
    "PROJECT_NAME='<YOUR PROJECT NAME>'\n",
    "MODEL_NAME='simple-tutorial'\n",
    "MODEL_VERSION='v1'"
   ]
  },
  {
   "cell_type": "code",
   "execution_count": null,
   "metadata": {},
   "outputs": [],
   "source": [
    "import ubiops\n",
    "configuration = ubiops.Configuration()\n",
    "configuration.api_key['Authorization'] = API_TOKEN\n",
    "client = ubiops.ApiClient(configuration)\n",
    "api = ubiops.CoreApi(client)\n",
    "api.service_status()"
   ]
  },
  {
   "cell_type": "markdown",
   "metadata": {},
   "source": [
    "## Deploy the model\n",
    "Create a model."
   ]
  },
  {
   "cell_type": "code",
   "execution_count": null,
   "metadata": {},
   "outputs": [],
   "source": [
    "model_template = ubiops.ModelCreate(\n",
    "    name=f'{MODEL_NAME}',\n",
    "    description='A simple model that multiplies the input float by a random number.',\n",
    "    input_type='structured',\n",
    "    output_type='structured',\n",
    "    input_fields=[\n",
    "        ubiops.ModelInputFieldCreate(\n",
    "            name='input',\n",
    "            data_type='double',\n",
    "        )\n",
    "    ],\n",
    "    output_fields=[\n",
    "        ubiops.ModelOutputFieldCreate(\n",
    "            name='output',\n",
    "            data_type='double'\n",
    "        )\n",
    "    ]\n",
    ")\n",
    "\n",
    "model = api.models_create(\n",
    "    project_name=f'{PROJECT_NAME}',\n",
    "    data=model_template\n",
    ")\n",
    "print(model)"
   ]
  },
  {
   "cell_type": "markdown",
   "metadata": {},
   "source": [
    "Create a model version."
   ]
  },
  {
   "cell_type": "code",
   "execution_count": null,
   "metadata": {},
   "outputs": [],
   "source": [
    "model_version_template = ubiops.ModelVersionCreate(\n",
    "    version=f'{MODEL_VERSION}',\n",
    "    language='python3.7',\n",
    "    memory_allocation=256,\n",
    "    maximum_instances=1,\n",
    "    minimum_instances=0,\n",
    "    maximum_idle_time=1800 # = 30 minutes\n",
    ")\n",
    "\n",
    "model_version = api.model_versions_create(\n",
    "    project_name=f'{PROJECT_NAME}',\n",
    "    model_name=f'{MODEL_NAME}',\n",
    "    data=model_version_template\n",
    ")\n",
    "print(model_version)"
   ]
  },
  {
   "cell_type": "markdown",
   "metadata": {},
   "source": [
    "Upload the prepared model file to the created model version."
   ]
  },
  {
   "cell_type": "code",
   "execution_count": null,
   "metadata": {},
   "outputs": [],
   "source": [
    "file_upload_result =api.model_versions_file_upload(\n",
    "    project_name=f'{PROJECT_NAME}',\n",
    "    model_name=f'{MODEL_NAME}',\n",
    "    version=f'{MODEL_VERSION}',\n",
    "    file='simple_model_package.zip'\n",
    ")"
   ]
  },
  {
   "cell_type": "markdown",
   "metadata": {},
   "source": [
    "Check if model version is finished building.\n",
    "This can take a few minutes."
   ]
  },
  {
   "cell_type": "code",
   "execution_count": null,
   "metadata": {},
   "outputs": [],
   "source": [
    "from time import sleep\n",
    "status = 'building'\n",
    "while status != 'available' and 'failed' not in status:    \n",
    "    model_version_status = api.model_versions_get(       \n",
    "        project_name=f'{PROJECT_NAME}',        \n",
    "        model_name=f'{MODEL_NAME}',        \n",
    "        version=f'{MODEL_VERSION}'    \n",
    "    )    \n",
    "    status = model_version_status.status\n",
    "    sleep(1)\n",
    "print(status)"
   ]
  },
  {
   "cell_type": "markdown",
   "metadata": {},
   "source": [
    "## Creating a direct request\n",
    "Make sure the model is in 'available' state before performing model requests."
   ]
  },
  {
   "cell_type": "code",
   "execution_count": null,
   "metadata": {},
   "outputs": [],
   "source": [
    "data = {'input': 123}\n",
    "model_result = api.model_requests_create(\n",
    "    project_name=f'{PROJECT_NAME}',\n",
    "    model_name=f'{MODEL_NAME}',\n",
    "    version=f'{MODEL_VERSION}',\n",
    "    data=data\n",
    ")\n",
    "print(model_result)"
   ]
  },
  {
   "cell_type": "markdown",
   "metadata": {},
   "source": [
    "## Cleanup\n",
    "Delete created model."
   ]
  },
  {
   "cell_type": "code",
   "execution_count": null,
   "metadata": {},
   "outputs": [],
   "source": [
    "api.models_delete(\n",
    "    project_name=f'{PROJECT_NAME}',\n",
    "    model_name=f'{MODEL_NAME}'\n",
    ")"
   ]
  },
  {
   "cell_type": "markdown",
   "metadata": {},
   "source": [
    " "
   ]
  }
 ],
 "metadata": {
  "kernelspec": {
   "display_name": "Python 3",
   "language": "python",
   "name": "python3"
  },
  "language_info": {
   "codemirror_mode": {
    "name": "ipython",
    "version": 3
   },
   "file_extension": ".py",
   "mimetype": "text/x-python",
   "name": "python",
   "nbconvert_exporter": "python",
   "pygments_lexer": "ipython3",
   "version": "3.6.10"
  }
 },
 "nbformat": 4,
 "nbformat_minor": 4
}
